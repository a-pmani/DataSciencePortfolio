{
 "cells": [
  {
   "cell_type": "markdown",
   "metadata": {},
   "source": [
    "##submitted by Alarmelu Pichu Mani\n",
    "email: alarmelu.pm@gmail.com"
   ]
  },
  {
   "cell_type": "markdown",
   "metadata": {},
   "source": [
    "# Developing a toxic comment classifier using NLP techniques and basic ML classifiers"
   ]
  },
  {
   "cell_type": "code",
   "execution_count": 6,
   "metadata": {},
   "outputs": [],
   "source": [
    "#imports needed to build the classifier\n",
    "import numpy as np\n",
    "import pandas as pd\n",
    "\n",
    "import seaborn as sns\n",
    "import matplotlib.pyplot as plt\n",
    "\n",
    "import nltk\n",
    "from nltk.corpus import stopwords\n",
    "stop_words = set(stopwords.words('english'))\n",
    "import re \n",
    "import string\n",
    "\n",
    "from sklearn.feature_extraction.text import CountVectorizer, TfidfVectorizer\n",
    "from sklearn.model_selection import train_test_split\n",
    "from sklearn.linear_model import LogisticRegression\n",
    "from sklearn.metrics import accuracy_score\n",
    "from sklearn.tree import DecisionTreeClassifier\n",
    "from sklearn.neighbors import KNeighborsClassifier\n",
    "\n",
    "from sklearn.metrics import confusion_matrix\n",
    "from sklearn.metrics import accuracy_score\n",
    "from sklearn.metrics import precision_score\n",
    "from sklearn.metrics import recall_score\n",
    "from sklearn.metrics import auc\n",
    "from sklearn.metrics import roc_auc_score\n",
    "from sklearn.metrics import log_loss\n",
    "from sklearn.metrics import f1_score"
   ]
  },
  {
   "cell_type": "markdown",
   "metadata": {},
   "source": [
    "# Importing the data "
   ]
  },
  {
   "cell_type": "code",
   "execution_count": 7,
   "metadata": {},
   "outputs": [
    {
     "name": "stdout",
     "output_type": "stream",
     "text": [
      "<class 'pandas.core.frame.DataFrame'>\n",
      "RangeIndex: 159571 entries, 0 to 159570\n",
      "Data columns (total 8 columns):\n",
      " #   Column         Non-Null Count   Dtype \n",
      "---  ------         --------------   ----- \n",
      " 0   id             159571 non-null  object\n",
      " 1   comment_text   159571 non-null  object\n",
      " 2   toxic          159571 non-null  int64 \n",
      " 3   severe_toxic   159571 non-null  int64 \n",
      " 4   obscene        159571 non-null  int64 \n",
      " 5   threat         159571 non-null  int64 \n",
      " 6   insult         159571 non-null  int64 \n",
      " 7   identity_hate  159571 non-null  int64 \n",
      "dtypes: int64(6), object(2)\n",
      "memory usage: 9.7+ MB\n"
     ]
    }
   ],
   "source": [
    "df_in = pd.read_csv('train.csv')\n",
    "df_in.info()\n"
   ]
  },
  {
   "cell_type": "code",
   "execution_count": 8,
   "metadata": {},
   "outputs": [
    {
     "data": {
      "text/html": [
       "<div>\n",
       "<style scoped>\n",
       "    .dataframe tbody tr th:only-of-type {\n",
       "        vertical-align: middle;\n",
       "    }\n",
       "\n",
       "    .dataframe tbody tr th {\n",
       "        vertical-align: top;\n",
       "    }\n",
       "\n",
       "    .dataframe thead th {\n",
       "        text-align: right;\n",
       "    }\n",
       "</style>\n",
       "<table border=\"1\" class=\"dataframe\">\n",
       "  <thead>\n",
       "    <tr style=\"text-align: right;\">\n",
       "      <th></th>\n",
       "      <th>id</th>\n",
       "      <th>comment_text</th>\n",
       "      <th>toxic</th>\n",
       "      <th>severe_toxic</th>\n",
       "      <th>obscene</th>\n",
       "      <th>threat</th>\n",
       "      <th>insult</th>\n",
       "      <th>identity_hate</th>\n",
       "    </tr>\n",
       "  </thead>\n",
       "  <tbody>\n",
       "    <tr>\n",
       "      <th>0</th>\n",
       "      <td>0000997932d777bf</td>\n",
       "      <td>Explanation\\nWhy the edits made under my usern...</td>\n",
       "      <td>0</td>\n",
       "      <td>0</td>\n",
       "      <td>0</td>\n",
       "      <td>0</td>\n",
       "      <td>0</td>\n",
       "      <td>0</td>\n",
       "    </tr>\n",
       "    <tr>\n",
       "      <th>1</th>\n",
       "      <td>000103f0d9cfb60f</td>\n",
       "      <td>D'aww! He matches this background colour I'm s...</td>\n",
       "      <td>0</td>\n",
       "      <td>0</td>\n",
       "      <td>0</td>\n",
       "      <td>0</td>\n",
       "      <td>0</td>\n",
       "      <td>0</td>\n",
       "    </tr>\n",
       "    <tr>\n",
       "      <th>2</th>\n",
       "      <td>000113f07ec002fd</td>\n",
       "      <td>Hey man, I'm really not trying to edit war. It...</td>\n",
       "      <td>0</td>\n",
       "      <td>0</td>\n",
       "      <td>0</td>\n",
       "      <td>0</td>\n",
       "      <td>0</td>\n",
       "      <td>0</td>\n",
       "    </tr>\n",
       "    <tr>\n",
       "      <th>3</th>\n",
       "      <td>0001b41b1c6bb37e</td>\n",
       "      <td>\"\\nMore\\nI can't make any real suggestions on ...</td>\n",
       "      <td>0</td>\n",
       "      <td>0</td>\n",
       "      <td>0</td>\n",
       "      <td>0</td>\n",
       "      <td>0</td>\n",
       "      <td>0</td>\n",
       "    </tr>\n",
       "    <tr>\n",
       "      <th>4</th>\n",
       "      <td>0001d958c54c6e35</td>\n",
       "      <td>You, sir, are my hero. Any chance you remember...</td>\n",
       "      <td>0</td>\n",
       "      <td>0</td>\n",
       "      <td>0</td>\n",
       "      <td>0</td>\n",
       "      <td>0</td>\n",
       "      <td>0</td>\n",
       "    </tr>\n",
       "    <tr>\n",
       "      <th>...</th>\n",
       "      <td>...</td>\n",
       "      <td>...</td>\n",
       "      <td>...</td>\n",
       "      <td>...</td>\n",
       "      <td>...</td>\n",
       "      <td>...</td>\n",
       "      <td>...</td>\n",
       "      <td>...</td>\n",
       "    </tr>\n",
       "    <tr>\n",
       "      <th>95</th>\n",
       "      <td>003b9f448ee4a29d</td>\n",
       "      <td>\"\\n\\nThanks. I can see that violating clearly ...</td>\n",
       "      <td>0</td>\n",
       "      <td>0</td>\n",
       "      <td>0</td>\n",
       "      <td>0</td>\n",
       "      <td>0</td>\n",
       "      <td>0</td>\n",
       "    </tr>\n",
       "    <tr>\n",
       "      <th>96</th>\n",
       "      <td>003bd094feef5263</td>\n",
       "      <td>\"\\nHi\\nThanks for our kind words. See you arou...</td>\n",
       "      <td>0</td>\n",
       "      <td>0</td>\n",
       "      <td>0</td>\n",
       "      <td>0</td>\n",
       "      <td>0</td>\n",
       "      <td>0</td>\n",
       "    </tr>\n",
       "    <tr>\n",
       "      <th>97</th>\n",
       "      <td>003caacc6ce6c9e9</td>\n",
       "      <td>Collusion in poker \\n\\nThis is regarded as mos...</td>\n",
       "      <td>0</td>\n",
       "      <td>0</td>\n",
       "      <td>0</td>\n",
       "      <td>0</td>\n",
       "      <td>0</td>\n",
       "      <td>0</td>\n",
       "    </tr>\n",
       "    <tr>\n",
       "      <th>98</th>\n",
       "      <td>003d77a20601cec1</td>\n",
       "      <td>Thanks much - however, if it's been resolved, ...</td>\n",
       "      <td>0</td>\n",
       "      <td>0</td>\n",
       "      <td>0</td>\n",
       "      <td>0</td>\n",
       "      <td>0</td>\n",
       "      <td>0</td>\n",
       "    </tr>\n",
       "    <tr>\n",
       "      <th>99</th>\n",
       "      <td>003dbd1b9b354c1f</td>\n",
       "      <td>You can do all you're doing right now but if y...</td>\n",
       "      <td>0</td>\n",
       "      <td>0</td>\n",
       "      <td>0</td>\n",
       "      <td>0</td>\n",
       "      <td>0</td>\n",
       "      <td>0</td>\n",
       "    </tr>\n",
       "  </tbody>\n",
       "</table>\n",
       "<p>100 rows × 8 columns</p>\n",
       "</div>"
      ],
      "text/plain": [
       "                  id                                       comment_text  \\\n",
       "0   0000997932d777bf  Explanation\\nWhy the edits made under my usern...   \n",
       "1   000103f0d9cfb60f  D'aww! He matches this background colour I'm s...   \n",
       "2   000113f07ec002fd  Hey man, I'm really not trying to edit war. It...   \n",
       "3   0001b41b1c6bb37e  \"\\nMore\\nI can't make any real suggestions on ...   \n",
       "4   0001d958c54c6e35  You, sir, are my hero. Any chance you remember...   \n",
       "..               ...                                                ...   \n",
       "95  003b9f448ee4a29d  \"\\n\\nThanks. I can see that violating clearly ...   \n",
       "96  003bd094feef5263  \"\\nHi\\nThanks for our kind words. See you arou...   \n",
       "97  003caacc6ce6c9e9  Collusion in poker \\n\\nThis is regarded as mos...   \n",
       "98  003d77a20601cec1  Thanks much - however, if it's been resolved, ...   \n",
       "99  003dbd1b9b354c1f  You can do all you're doing right now but if y...   \n",
       "\n",
       "    toxic  severe_toxic  obscene  threat  insult  identity_hate  \n",
       "0       0             0        0       0       0              0  \n",
       "1       0             0        0       0       0              0  \n",
       "2       0             0        0       0       0              0  \n",
       "3       0             0        0       0       0              0  \n",
       "4       0             0        0       0       0              0  \n",
       "..    ...           ...      ...     ...     ...            ...  \n",
       "95      0             0        0       0       0              0  \n",
       "96      0             0        0       0       0              0  \n",
       "97      0             0        0       0       0              0  \n",
       "98      0             0        0       0       0              0  \n",
       "99      0             0        0       0       0              0  \n",
       "\n",
       "[100 rows x 8 columns]"
      ]
     },
     "execution_count": 8,
     "metadata": {},
     "output_type": "execute_result"
    }
   ],
   "source": [
    "df_in.head(100)"
   ]
  },
  {
   "cell_type": "code",
   "execution_count": null,
   "metadata": {},
   "outputs": [],
   "source": []
  },
  {
   "cell_type": "code",
   "execution_count": 9,
   "metadata": {},
   "outputs": [
    {
     "data": {
      "text/plain": [
       "\"You, sir, are my hero. Any chance you remember what page that's on?\""
      ]
     },
     "execution_count": 9,
     "metadata": {},
     "output_type": "execute_result"
    }
   ],
   "source": [
    "df_in['comment_text'][4]"
   ]
  },
  {
   "cell_type": "code",
   "execution_count": 10,
   "metadata": {},
   "outputs": [
    {
     "data": {
      "text/plain": [
       "'\"\\n\\nThanks. I can see that violating clearly stated Wikipedia policy is no problem with some people, as is now being reviewed elsewhere. Finishing up one other wiki project todsy and then spending the rest of the day on an important personal blog entry.  Then I\\'ll go find other discussions of James Petras\\' fascinating discussion of the use of the term \"\"Jewish Lobby\"\" so that I don\\'t have to put back up the deleted Dissident Voice article right away per Talk:Jewish_lobby#WP:V_-_comparing_Jewish_Virtual_Library_and_Dissident_Voice.\\nCarol Moore  talk\"'"
      ]
     },
     "execution_count": 10,
     "metadata": {},
     "output_type": "execute_result"
    }
   ],
   "source": [
    "df_in['comment_text'][95]"
   ]
  },
  {
   "cell_type": "code",
   "execution_count": 11,
   "metadata": {},
   "outputs": [
    {
     "data": {
      "text/plain": [
       "\"D'aww! He matches this background colour I'm seemingly stuck with. Thanks.  (talk) 21:51, January 11, 2016 (UTC)\""
      ]
     },
     "execution_count": 11,
     "metadata": {},
     "output_type": "execute_result"
    }
   ],
   "source": [
    "df_in['comment_text'][1]"
   ]
  },
  {
   "cell_type": "markdown",
   "metadata": {},
   "source": [
    "## Exploratory analysis"
   ]
  },
  {
   "cell_type": "markdown",
   "metadata": {},
   "source": [
    "Analyzing each class to see how the distribution is "
   ]
  },
  {
   "cell_type": "code",
   "execution_count": 100,
   "metadata": {},
   "outputs": [
    {
     "name": "stdout",
     "output_type": "stream",
     "text": [
      "Column name:  toxic\n",
      "0    0.904156\n",
      "1    0.095844\n",
      "Name: toxic, dtype: float64\n",
      "Column name:  severe_toxic\n",
      "0    0.990004\n",
      "1    0.009996\n",
      "Name: severe_toxic, dtype: float64\n",
      "Column name:  obscene\n",
      "0    0.947052\n",
      "1    0.052948\n",
      "Name: obscene, dtype: float64\n",
      "Column name:  threat\n",
      "0    0.997004\n",
      "1    0.002996\n",
      "Name: threat, dtype: float64\n",
      "Column name:  insult\n",
      "0    0.950636\n",
      "1    0.049364\n",
      "Name: insult, dtype: float64\n",
      "Column name:  identity_hate\n",
      "0    0.991195\n",
      "1    0.008805\n",
      "Name: identity_hate, dtype: float64\n"
     ]
    },
    {
     "data": {
      "text/plain": [
       "['toxic', 'severe_toxic', 'obscene', 'threat', 'insult', 'identity_hate']"
      ]
     },
     "execution_count": 100,
     "metadata": {},
     "output_type": "execute_result"
    }
   ],
   "source": [
    "types=[] #to capture the classes present in the data set\n",
    "toxicity = df_in.iloc[:,2:]\n",
    "for colname, col in toxicity.iteritems():\n",
    "    print('Column name: ',colname)\n",
    "    types.append(colname)\n",
    "    toxicity_percent = df_in[colname].value_counts(normalize=True)\n",
    "    print(toxicity_percent)\n",
    "types"
   ]
  },
  {
   "cell_type": "code",
   "execution_count": 13,
   "metadata": {},
   "outputs": [
    {
     "name": "stderr",
     "output_type": "stream",
     "text": [
      "<ipython-input-13-9ef9fa401aec>:11: MatplotlibDeprecationWarning: Non-1D inputs to pie() are currently squeeze()d, but this behavior is deprecated since 3.1 and will be removed in 3.3; pass a 1D array instead.\n",
      "  source_pie = plt.pie(pie_data,labels=pie_data.index, autopct='%1.1f%%', shadow=False, colors=colors, explode=explode)\n"
     ]
    },
    {
     "data": {
      "image/png": "[encoded data removed]",
      "text/plain": [
       "<Figure size 1080x1080 with 1 Axes>"
      ]
     },
     "metadata": {},
     "output_type": "display_data"
    }
   ],
   "source": [
    "from matplotlib.gridspec import GridSpec\n",
    "pie_data = pd.DataFrame(toxicity.sum())\n",
    "\n",
    "# Make square figures and axes\n",
    "plt.figure(1, figsize=(15,15))\n",
    "the_grid = GridSpec(2, 2)\n",
    "cmap = plt.get_cmap('tab20c')\n",
    "explode = [0.01,0.01,0.01,0.01,0.01,0.01] \n",
    "colors = [cmap(i) for i in np.linspace(0, 1, 3)]\n",
    "plt.subplot(the_grid[0, 1], aspect=1, title='CATEGORY DISTRIBUTION')\n",
    "source_pie = plt.pie(pie_data,labels=pie_data.index, autopct='%1.1f%%', shadow=False, colors=colors, explode=explode)\n",
    "plt.show()"
   ]
  },
  {
   "cell_type": "markdown",
   "metadata": {},
   "source": [
    "The above piechart helps understand if the data set is balanced as a whole. We can see that toxic comments alone make up 43.6% of the entire dataset.\n",
    "Threats are very small number. Threats, severe toxic and identity hate make up ~10% of the data set"
   ]
  },
  {
   "cell_type": "code",
   "execution_count": 14,
   "metadata": {},
   "outputs": [
    {
     "name": "stdout",
     "output_type": "stream",
     "text": [
      "Total number of rows:  159571\n"
     ]
    },
    {
     "data": {
      "text/plain": [
       "toxic            15294\n",
       "severe_toxic      1595\n",
       "obscene           8449\n",
       "threat             478\n",
       "insult            7877\n",
       "identity_hate     1405\n",
       "dtype: int64"
      ]
     },
     "execution_count": 14,
     "metadata": {},
     "output_type": "execute_result"
    }
   ],
   "source": [
    "print('Total number of rows: ',len(toxicity))\n",
    "tox_count = toxicity.sum()\n",
    "tox_count"
   ]
  },
  {
   "cell_type": "code",
   "execution_count": 15,
   "metadata": {},
   "outputs": [
    {
     "data": {
      "image/png": "[encoded data removed]",
      "text/plain": [
       "<Figure size 864x576 with 1 Axes>"
      ]
     },
     "metadata": {
      "needs_background": "light"
     },
     "output_type": "display_data"
    }
   ],
   "source": [
    "x = tox_count.index\n",
    "y = tox_count.values\n",
    "plt.figure(figsize=(12,8))\n",
    "plt.barh(x, y)\n",
    "plt.ylabel(\"Comment type\")\n",
    "plt.xlabel(\"No. of occurances\")\n",
    "plt.title(\"Comments per class\")\n",
    "for index, value in enumerate(y):\n",
    "    plt.text(value, index, str(value))\n"
   ]
  },
  {
   "cell_type": "markdown",
   "metadata": {},
   "source": [
    "The above barchart shows the distribution in actual number of comments under each class"
   ]
  },
  {
   "cell_type": "markdown",
   "metadata": {},
   "source": [
    "# Checking if comment fall under multiple labels\n",
    "Eg. Can a comment be both toxic and imply a threat?"
   ]
  },
  {
   "cell_type": "code",
   "execution_count": 16,
   "metadata": {},
   "outputs": [
    {
     "data": {
      "text/plain": [
       "Text(0.5, 0, '# of categories')"
      ]
     },
     "execution_count": 16,
     "metadata": {},
     "output_type": "execute_result"
    },
    {
     "data": {
      "image/png": "[encoded data removed]",
      "text/plain": [
       "<Figure size 576x360 with 1 Axes>"
      ]
     },
     "metadata": {
      "needs_background": "light"
     },
     "output_type": "display_data"
    }
   ],
   "source": [
    "#Do comments have multiple labels?\n",
    "rowsums = df_in.iloc[:,2:].sum(axis=1)\n",
    "x=rowsums.value_counts()\n",
    "\n",
    "#plot\n",
    "plt.figure(figsize=(8,5))\n",
    "ax = sns.barplot(x.index, x.values)\n",
    "plt.title(\"Multiple categories per comment\")\n",
    "plt.ylabel('# of Occurrences', fontsize=12)\n",
    "plt.xlabel('# of categories', fontsize=12)"
   ]
  },
  {
   "cell_type": "markdown",
   "metadata": {},
   "source": [
    "Here we can see that comments fall under more than one class.\n",
    "There are 140000+ comments in the unlabelled category. This means that the comment can be in a category other than the \n",
    "classes in the data set - for example: positive comments"
   ]
  },
  {
   "cell_type": "code",
   "execution_count": 102,
   "metadata": {},
   "outputs": [
    {
     "name": "stdout",
     "output_type": "stream",
     "text": [
      "Percentage of unlabelled comments\n",
      "0.8983211235124177\n",
      "Looking for missing comments in the comment_text column\n"
     ]
    },
    {
     "data": {
      "text/plain": [
       "0"
      ]
     },
     "execution_count": 102,
     "metadata": {},
     "output_type": "execute_result"
    }
   ],
   "source": [
    "print('Percentage of unlabelled comments')\n",
    "print(len(df_in[(df_in['toxic']==0) & (df_in['severe_toxic']==0) & (df_in['obscene']==0) & (df_in['threat']== 0) & (df_in['insult']==0) & (df_in['identity_hate']==0)]) / len(df_in))\n",
    "\n",
    "print('Looking for missing comments in the comment_text column')\n",
    "df_in['comment_text'].isnull().sum()"
   ]
  },
  {
   "cell_type": "markdown",
   "metadata": {},
   "source": [
    "There are no missing comments in the comment_text column"
   ]
  },
  {
   "cell_type": "code",
   "execution_count": 17,
   "metadata": {},
   "outputs": [
    {
     "name": "stdout",
     "output_type": "stream",
     "text": [
      "least length:  6\n",
      "maximum length:  5000\n"
     ]
    },
    {
     "data": {
      "text/plain": [
       "<matplotlib.axes._subplots.AxesSubplot at 0x7ff8b1c400d0>"
      ]
     },
     "execution_count": 17,
     "metadata": {},
     "output_type": "execute_result"
    },
    {
     "data": {
      "image/png": "[encoded data removed]",
      "text/plain": [
       "<Figure size 432x288 with 1 Axes>"
      ]
     },
     "metadata": {
      "needs_background": "light"
     },
     "output_type": "display_data"
    }
   ],
   "source": [
    "#Size/length of the comment\n",
    "length = df_in.comment_text.str.len()\n",
    "print('least length: ',min(length))\n",
    "print('maximum length: ',max(length))\n",
    "length.hist(bins = np.arange(0,1000,50))"
   ]
  },
  {
   "cell_type": "markdown",
   "metadata": {},
   "source": [
    "The length of the comments vary anywhere between 6-5000. However the concentration of the length is between 1-200 and then it gradually decreases. "
   ]
  },
  {
   "cell_type": "code",
   "execution_count": 30,
   "metadata": {},
   "outputs": [],
   "source": [
    "import re\n",
    "def clean_comments(text):\n",
    "    text = text.lower()\n",
    "    text = re.sub('http\\S+\\s*', ' ', text)  # remove URLs\n",
    "    text = re.sub('RT|cc', ' ', text)  # remove RT and cc\n",
    "    text = re.sub('#\\S+', '', text)  # remove hashtags\n",
    "    text = re.sub('@\\S+', '  ', text)  # remove mentions\n",
    "    text = re.sub('[%s]' % re.escape(\"\"\"!\"#$%&'()*+,-./:;<=>?@[\\]^_`{|}~\"\"\"), ' ', text)  # remove punctuations\n",
    "    text = re.sub(r'[^\\x00-\\x7f]',r' ', text)  #remove non-ascii characters\n",
    "    text = re.sub('\\s+', ' ', text)  # remove extra whitespace\n",
    "    return text"
   ]
  },
  {
   "cell_type": "code",
   "execution_count": 31,
   "metadata": {},
   "outputs": [],
   "source": [
    "df_in['comment_text']=df_in.comment_text.apply(lambda x: clean_comments(x))"
   ]
  },
  {
   "cell_type": "code",
   "execution_count": 32,
   "metadata": {},
   "outputs": [
    {
     "data": {
      "text/plain": [
       "'explanation why the edits made under my username hardcore metallica fan were reverted they weren t vandalisms just closure on some gas after i voted at new york dolls fac and please don t remove the template from the talk page since i m retired now 89 205 38 27'"
      ]
     },
     "execution_count": 32,
     "metadata": {},
     "output_type": "execute_result"
    }
   ],
   "source": [
    "df_in['comment_text'][0]"
   ]
  },
  {
   "cell_type": "code",
   "execution_count": 33,
   "metadata": {},
   "outputs": [],
   "source": [
    "from nltk.stem import WordNetLemmatizer\n",
    "lemmatizer = WordNetLemmatizer()\n",
    "df_in['comment_text']=df_in.comment_text.apply(lambda x: lemmatizer.lemmatize(x))\n"
   ]
  },
  {
   "cell_type": "markdown",
   "metadata": {},
   "source": [
    "# Balancing the dataset"
   ]
  },
  {
   "cell_type": "markdown",
   "metadata": {},
   "source": [
    "Balancing the dataset\n",
    "As mentioned earlier, since our dataset is not very balanced. \n",
    "We need to manually balance the dataset to get good results from the classifiers."
   ]
  },
  {
   "cell_type": "markdown",
   "metadata": {},
   "source": [
    "Separating the dataset into 6 sections based on the classes"
   ]
  },
  {
   "cell_type": "code",
   "execution_count": 35,
   "metadata": {},
   "outputs": [],
   "source": [
    "data_tox = df_in.loc[:,['id','comment_text','toxic']]\n",
    "data_sev = df_in.loc[:,['id','comment_text','severe_toxic']]\n",
    "data_obs = df_in.loc[:,['id','comment_text','obscene']]\n",
    "data_thr = df_in.loc[:,['id','comment_text','threat']]\n",
    "data_ins = df_in.loc[:,['id','comment_text','insult']]\n",
    "data_ide = df_in.loc[:,['id','comment_text','identity_hate']]"
   ]
  },
  {
   "cell_type": "markdown",
   "metadata": {},
   "source": [
    "Examining the toxic comments to understand the distribution.\n",
    "In total there are 15294 rows of data in the toxic class,\n",
    "In order to have a balanced dataset, we take only 5000 toxic comments and 5000 comments that may fall under any of the other categories"
   ]
  },
  {
   "cell_type": "code",
   "execution_count": 105,
   "metadata": {},
   "outputs": [],
   "source": [
    "df_tox1 = data_tox[data_tox['toxic'] == 1].iloc[0:5000,:]\n",
    "df_tox0 = data_tox[data_tox['toxic'] == 0].iloc[0:5000,:]\n",
    "df_tox = pd.concat([df_tox1, df_tox0], axis=0)"
   ]
  },
  {
   "cell_type": "markdown",
   "metadata": {},
   "source": [
    "Likewise for severe toxic comments, where there are only 1595 rows."
   ]
  },
  {
   "cell_type": "code",
   "execution_count": 37,
   "metadata": {},
   "outputs": [
    {
     "data": {
      "text/plain": [
       "id              1595\n",
       "comment_text    1595\n",
       "severe_toxic    1595\n",
       "dtype: int64"
      ]
     },
     "execution_count": 37,
     "metadata": {},
     "output_type": "execute_result"
    }
   ],
   "source": [
    "data_sev[data_sev['severe_toxic'] == 1].count()"
   ]
  },
  {
   "cell_type": "code",
   "execution_count": 38,
   "metadata": {},
   "outputs": [],
   "source": [
    "df_sev1 = data_sev[data_sev['severe_toxic'] == 1].iloc[0:1595,:]\n",
    "df_sev0 = data_sev[data_sev['severe_toxic'] == 0].iloc[0:1595,:]\n",
    "df_sev = pd.concat([df_sev1, df_sev0], axis=0)"
   ]
  },
  {
   "cell_type": "markdown",
   "metadata": {},
   "source": [
    "As for the obscene comments, we stick to 5000 rows again"
   ]
  },
  {
   "cell_type": "code",
   "execution_count": 39,
   "metadata": {},
   "outputs": [
    {
     "data": {
      "text/plain": [
       "id              8449\n",
       "comment_text    8449\n",
       "obscene         8449\n",
       "dtype: int64"
      ]
     },
     "execution_count": 39,
     "metadata": {},
     "output_type": "execute_result"
    }
   ],
   "source": [
    "data_obs[data_obs['obscene'] == 1].count()"
   ]
  },
  {
   "cell_type": "code",
   "execution_count": 40,
   "metadata": {},
   "outputs": [],
   "source": [
    "df_obs1 = data_obs[data_obs['obscene'] == 1].iloc[0:5000,:]\n",
    "df_obs0 = data_obs[data_obs['obscene'] == 0].iloc[0:5000,:]\n",
    "df_obs = pd.concat([df_obs1, df_obs0], axis=0)"
   ]
  },
  {
   "cell_type": "markdown",
   "metadata": {},
   "source": [
    "Since threat is a very small part of the dataset, we make it a 20-80 data distribution \n",
    "where 80% of the data will come from other classes"
   ]
  },
  {
   "cell_type": "code",
   "execution_count": 41,
   "metadata": {},
   "outputs": [
    {
     "data": {
      "text/plain": [
       "id              478\n",
       "comment_text    478\n",
       "threat          478\n",
       "dtype: int64"
      ]
     },
     "execution_count": 41,
     "metadata": {},
     "output_type": "execute_result"
    }
   ],
   "source": [
    "data_thr[data_thr['threat'] == 1].count()"
   ]
  },
  {
   "cell_type": "code",
   "execution_count": 42,
   "metadata": {},
   "outputs": [
    {
     "data": {
      "text/plain": [
       "(2390, 3)"
      ]
     },
     "execution_count": 42,
     "metadata": {},
     "output_type": "execute_result"
    }
   ],
   "source": [
    "df_thr1 = data_thr[data_thr['threat'] == 1].iloc[0:478,:]\n",
    "\n",
    "# We include 1912 comments that have no threat so that the data with threat (478) will represent 20% of the dataset.\n",
    "df_thr0 = data_thr[data_thr['threat'] == 0].iloc[0:1912,:]  \n",
    "df_thr = pd.concat([df_thr1, df_thr0], axis=0)\n",
    "df_thr.shape"
   ]
  },
  {
   "cell_type": "code",
   "execution_count": 43,
   "metadata": {},
   "outputs": [
    {
     "data": {
      "text/plain": [
       "id              7877\n",
       "comment_text    7877\n",
       "insult          7877\n",
       "dtype: int64"
      ]
     },
     "execution_count": 43,
     "metadata": {},
     "output_type": "execute_result"
    }
   ],
   "source": [
    "data_ins[data_ins['insult'] == 1].count()"
   ]
  },
  {
   "cell_type": "markdown",
   "metadata": {},
   "source": [
    "Insults are a bigger portion again, so we stick to 5000 rows and 5000 rows of other data"
   ]
  },
  {
   "cell_type": "code",
   "execution_count": 44,
   "metadata": {},
   "outputs": [
    {
     "data": {
      "text/plain": [
       "(10000, 3)"
      ]
     },
     "execution_count": 44,
     "metadata": {},
     "output_type": "execute_result"
    }
   ],
   "source": [
    "df_ins1 = data_ins[data_ins['insult'] == 1].iloc[0:5000,:]\n",
    "df_ins0 = data_ins[data_ins['insult'] == 0].iloc[0:5000,:]\n",
    "df_ins = pd.concat([df_ins1, df_ins0], axis=0)\n",
    "df_ins.shape"
   ]
  },
  {
   "cell_type": "code",
   "execution_count": 45,
   "metadata": {},
   "outputs": [
    {
     "data": {
      "text/plain": [
       "id               1405\n",
       "comment_text     1405\n",
       "identity_hate    1405\n",
       "dtype: int64"
      ]
     },
     "execution_count": 45,
     "metadata": {},
     "output_type": "execute_result"
    }
   ],
   "source": [
    "data_ide[data_ide['identity_hate'] == 1].count()"
   ]
  },
  {
   "cell_type": "markdown",
   "metadata": {},
   "source": [
    "As for identity hate, we follow the 20-80 model where 80% comes from other classes of comments"
   ]
  },
  {
   "cell_type": "code",
   "execution_count": 46,
   "metadata": {},
   "outputs": [
    {
     "data": {
      "text/plain": [
       "(7025, 3)"
      ]
     },
     "execution_count": 46,
     "metadata": {},
     "output_type": "execute_result"
    }
   ],
   "source": [
    "df_ide1 = data_ide[data_ide['identity_hate'] == 1].iloc[0:1405,:] # 20%\n",
    "df_ide0 = data_ide[data_ide['identity_hate'] == 0].iloc[0:5620,:] # 80%\n",
    "df_ide = pd.concat([df_ide1, df_ide0], axis=0)\n",
    "df_ide.shape"
   ]
  },
  {
   "cell_type": "markdown",
   "metadata": {},
   "source": [
    "# Feeding the datasets into Machine learning algorithms for classification"
   ]
  },
  {
   "cell_type": "markdown",
   "metadata": {},
   "source": [
    "The eval_tp function computes the classifier metrics for our analysis"
   ]
  },
  {
   "cell_type": "code",
   "execution_count": 47,
   "metadata": {},
   "outputs": [],
   "source": [
    "def eval_tp(actual,propensity,cutoff):\n",
    "    \n",
    "    cm = confusion_matrix(actual,[1 if p > cutoff else 0 for p in propensity]).ravel()\n",
    "    \n",
    "    tn=cm[0]\n",
    "    fp=cm[1]\n",
    "    fn=cm[2]\n",
    "    tp=cm[3]\n",
    "    recall  = tp / (tp + fn)\n",
    "    precision= tp / (tp + fp)\n",
    "    accuracy_scor=accuracy_score(actual,[1 if p > cutoff else 0 for p in propensity])\n",
    "    metrics = [recall,precision,accuracy_scor]\n",
    "    return metrics"
   ]
  },
  {
   "cell_type": "markdown",
   "metadata": {},
   "source": [
    "The classifier_CV classifies the comments based on the countVecorizer  term-document matrix feature.\n",
    "I have used Decision tree, Logistic regression and KNN classfiers to classify the comments.\n",
    "Decision tree and Logistic regression use polarly opposite methodologies to classify data.\n",
    "Decision tree bisects spaces into smaller sections while logistic regression bisects the space into exactly two.\n",
    "KNN classifier is not model based and would have a lower bias. Hence I added it in the mix to see if I am able to get\n",
    "any insights.\n",
    "\n",
    "Use of countVecorizer:\n",
    "Since the ML models cannot process text data as it is, we need to transform our documents into vectors for the algorithm to consume and analyze.\n",
    "The countVecorizer converts the text into vectors based on the word counts occuring in the entire text. This process is called feature extraction and is an essential step in applying ML algorithms to language.\n"
   ]
  },
  {
   "cell_type": "code",
   "execution_count": 48,
   "metadata": {},
   "outputs": [],
   "source": [
    "def classifier_CV(df,types):\n",
    "    # Split the data into X and y data sets\n",
    "    X = df.comment_text\n",
    "    y = df[types]\n",
    "\n",
    "    # Split our data into training and test data \n",
    "    X_train, X_test, y_train, y_test = train_test_split(X, y, test_size=0.3, random_state=42)\n",
    "    \n",
    "    # Create a Vectorizer object and remove stopwords from the table\n",
    "    cv1 = CountVectorizer(ngram_range=(1,1), stop_words='english')\n",
    "    \n",
    "    X_train_cv1 = cv1.fit_transform(X_train) # Learn the vocabulary dictionary and return term-document matrix\n",
    "    X_test_cv1  = cv1.transform(X_test)      # Learn a vocabulary dictionary of all tokens in the raw documents.\n",
    "    \n",
    "    ####.......Decision Tree........####\n",
    "    dt = DecisionTreeClassifier(max_depth =3, random_state = 42)\n",
    "    dt.fit(X_train_cv1, y_train)\n",
    "    dt_f1 = f1_score(dt.predict(X_test_cv1), y_test)\n",
    "    dt_model_eval = eval_tp(actual=y_test,propensity=pd.DataFrame(dt.predict_proba(X_test_cv1)).iloc[:,1],cutoff=0.5)\n",
    "    print('....... Decision Tree Results ........')\n",
    "    print('....... class type {} ........'.format(types))\n",
    "    print('precision: ',dt_model_eval[1])\n",
    "    print('recall: ',dt_model_eval[0],'\\n')\n",
    "    dt_accuracy = dt_model_eval[2]\n",
    "    \n",
    "    ####.......Logistic Regression........####\n",
    "    lr = LogisticRegression(solver='lbfgs',class_weight='balanced', max_iter=10000)\n",
    "    lr.fit(X_train_cv1, y_train)\n",
    "    lr_f1 = f1_score(lr.predict(X_test_cv1), y_test)\n",
    "    lr_model_eval = eval_tp(actual=y_test,propensity=pd.DataFrame(lr.predict_proba(X_test_cv1)).iloc[:,1],cutoff=0.5)\n",
    "    print('....... Logistic Regression Results ........')\n",
    "    print('....... class type {} ........'.format(types))\n",
    "    print('precision: ',lr_model_eval[1])\n",
    "    print('recall: ',lr_model_eval[0],'\\n')\n",
    "    lr_accuracy = lr_model_eval[2]\n",
    "    \n",
    "    ####.......KNeighbors Classifier........####\n",
    "    knn = KNeighborsClassifier(n_neighbors=5)\n",
    "    knn.fit(X_train_cv1, y_train)\n",
    "    knn_f1 = f1_score(knn.predict(X_test_cv1), y_test)\n",
    "    knn_model_eval = eval_tp(actual=y_test,propensity=pd.DataFrame(knn.predict_proba(X_test_cv1)).iloc[:,1],cutoff=0.5)\n",
    "    print('....... KNeighbors Classifier Results ........')\n",
    "    print('....... class type {} ........'.format(types))\n",
    "    print('precision: ',knn_model_eval[1])\n",
    "    print('recall: ',knn_model_eval[0],'\\n')\n",
    "    knn_accuracy = knn_model_eval[2]\n",
    "    \n",
    "    #####.......collating the results........####\n",
    "    models = ['Decision Tree','Log. Regression','KNN']\n",
    "    f1_scores = [dt_f1,lr_f1,knn_f1]\n",
    "    accuracy_scores = [dt_accuracy,lr_accuracy,knn_accuracy]\n",
    "    df_metrics = pd.DataFrame({'Models': models, 'F1 scores': f1_scores,'Accuracy Scores':accuracy_scores})\n",
    "    df_metrics.set_index(\"Models\", inplace = True)\n",
    "    return df_metrics\n",
    "\n",
    "    "
   ]
  },
  {
   "cell_type": "code",
   "execution_count": 49,
   "metadata": {},
   "outputs": [
    {
     "data": {
      "text/plain": [
       "['toxic', 'severe_toxic', 'obscene', 'threat', 'insult', 'identity_hate']"
      ]
     },
     "execution_count": 49,
     "metadata": {},
     "output_type": "execute_result"
    }
   ],
   "source": [
    "types"
   ]
  },
  {
   "cell_type": "code",
   "execution_count": 73,
   "metadata": {},
   "outputs": [
    {
     "name": "stdout",
     "output_type": "stream",
     "text": [
      "....... Decision Tree Results ........\n",
      "....... class type toxic ........\n",
      "precision:  0.9918032786885246\n",
      "recall:  0.236174365647365 \n",
      "\n",
      "....... Logistic Regression Results ........\n",
      "....... class type toxic ........\n",
      "precision:  0.8949175824175825\n",
      "recall:  0.8477553675992192 \n",
      "\n",
      "....... KNeighbors Classifier Results ........\n",
      "....... class type toxic ........\n",
      "precision:  0.6852367688022284\n",
      "recall:  0.8002602472348731 \n",
      "\n"
     ]
    },
    {
     "data": {
      "text/html": [
       "<div>\n",
       "<style scoped>\n",
       "    .dataframe tbody tr th:only-of-type {\n",
       "        vertical-align: middle;\n",
       "    }\n",
       "\n",
       "    .dataframe tbody tr th {\n",
       "        vertical-align: top;\n",
       "    }\n",
       "\n",
       "    .dataframe thead th {\n",
       "        text-align: right;\n",
       "    }\n",
       "</style>\n",
       "<table border=\"1\" class=\"dataframe\">\n",
       "  <thead>\n",
       "    <tr style=\"text-align: right;\">\n",
       "      <th></th>\n",
       "      <th>F1 Scores(toxic)</th>\n",
       "      <th>Accuracy Scores(toxic)</th>\n",
       "    </tr>\n",
       "    <tr>\n",
       "      <th>Models</th>\n",
       "      <th></th>\n",
       "      <th></th>\n",
       "    </tr>\n",
       "  </thead>\n",
       "  <tbody>\n",
       "    <tr>\n",
       "      <th>Decision Tree</th>\n",
       "      <td>0.381503</td>\n",
       "      <td>0.607667</td>\n",
       "    </tr>\n",
       "    <tr>\n",
       "      <th>Log. Regression</th>\n",
       "      <td>0.870698</td>\n",
       "      <td>0.871000</td>\n",
       "    </tr>\n",
       "    <tr>\n",
       "      <th>KNN</th>\n",
       "      <td>0.738295</td>\n",
       "      <td>0.709333</td>\n",
       "    </tr>\n",
       "  </tbody>\n",
       "</table>\n",
       "</div>"
      ],
      "text/plain": [
       "                 F1 Scores(toxic)  Accuracy Scores(toxic)\n",
       "Models                                                   \n",
       "Decision Tree            0.381503                0.607667\n",
       "Log. Regression          0.870698                0.871000\n",
       "KNN                      0.738295                0.709333"
      ]
     },
     "execution_count": 73,
     "metadata": {},
     "output_type": "execute_result"
    }
   ],
   "source": [
    "###........Evaluating toxic comments........###\n",
    "toxic_metrics = classifier_CV(df_tox,'toxic')\n",
    "toxic_metrics.rename(columns={'F1 scores':'F1 Scores(toxic)'}, inplace=True)\n",
    "toxic_metrics.rename(columns={'Accuracy Scores':'Accuracy Scores(toxic)'}, inplace=True)\n",
    "toxic_metrics"
   ]
  },
  {
   "cell_type": "code",
   "execution_count": 74,
   "metadata": {},
   "outputs": [
    {
     "name": "stdout",
     "output_type": "stream",
     "text": [
      "....... Decision Tree Results ........\n",
      "....... class type severe_toxic ........\n",
      "precision:  0.9648562300319489\n",
      "recall:  0.6278586278586279 \n",
      "\n",
      "....... Logistic Regression Results ........\n",
      "....... class type severe_toxic ........\n",
      "precision:  0.9576837416481069\n",
      "recall:  0.893970893970894 \n",
      "\n",
      "....... KNeighbors Classifier Results ........\n",
      "....... class type severe_toxic ........\n",
      "precision:  0.7441471571906354\n",
      "recall:  0.9251559251559252 \n",
      "\n"
     ]
    },
    {
     "data": {
      "text/html": [
       "<div>\n",
       "<style scoped>\n",
       "    .dataframe tbody tr th:only-of-type {\n",
       "        vertical-align: middle;\n",
       "    }\n",
       "\n",
       "    .dataframe tbody tr th {\n",
       "        vertical-align: top;\n",
       "    }\n",
       "\n",
       "    .dataframe thead th {\n",
       "        text-align: right;\n",
       "    }\n",
       "</style>\n",
       "<table border=\"1\" class=\"dataframe\">\n",
       "  <thead>\n",
       "    <tr style=\"text-align: right;\">\n",
       "      <th></th>\n",
       "      <th>F1 Scores(severe_toxic)</th>\n",
       "      <th>Accuracy Scores(severe_toxic)</th>\n",
       "    </tr>\n",
       "    <tr>\n",
       "      <th>Models</th>\n",
       "      <th></th>\n",
       "      <th></th>\n",
       "    </tr>\n",
       "  </thead>\n",
       "  <tbody>\n",
       "    <tr>\n",
       "      <th>Decision Tree</th>\n",
       "      <td>0.760705</td>\n",
       "      <td>0.801463</td>\n",
       "    </tr>\n",
       "    <tr>\n",
       "      <th>Log. Regression</th>\n",
       "      <td>0.924731</td>\n",
       "      <td>0.926855</td>\n",
       "    </tr>\n",
       "    <tr>\n",
       "      <th>KNN</th>\n",
       "      <td>0.824838</td>\n",
       "      <td>0.802508</td>\n",
       "    </tr>\n",
       "  </tbody>\n",
       "</table>\n",
       "</div>"
      ],
      "text/plain": [
       "                 F1 Scores(severe_toxic)  Accuracy Scores(severe_toxic)\n",
       "Models                                                                 \n",
       "Decision Tree                   0.760705                       0.801463\n",
       "Log. Regression                 0.924731                       0.926855\n",
       "KNN                             0.824838                       0.802508"
      ]
     },
     "execution_count": 74,
     "metadata": {},
     "output_type": "execute_result"
    }
   ],
   "source": [
    "###........Evaluating severe toxic comments........###\n",
    "sevtoxic_metrics = classifier_CV(df_sev,'severe_toxic')\n",
    "sevtoxic_metrics.rename(columns={'F1 scores':'F1 Scores(severe_toxic)'}, inplace=True)\n",
    "sevtoxic_metrics.rename(columns={'Accuracy Scores':'Accuracy Scores(severe_toxic)'}, inplace=True)\n",
    "sevtoxic_metrics"
   ]
  },
  {
   "cell_type": "code",
   "execution_count": 75,
   "metadata": {},
   "outputs": [
    {
     "name": "stdout",
     "output_type": "stream",
     "text": [
      "....... Decision Tree Results ........\n",
      "....... class type obscene ........\n",
      "precision:  0.9880794701986755\n",
      "recall:  0.4853610930383865 \n",
      "\n",
      "....... Logistic Regression Results ........\n",
      "....... class type obscene ........\n",
      "precision:  0.955617198335645\n",
      "recall:  0.896551724137931 \n",
      "\n",
      "....... KNeighbors Classifier Results ........\n",
      "....... class type obscene ........\n",
      "precision:  0.6500685244403838\n",
      "recall:  0.9258295380611581 \n",
      "\n"
     ]
    },
    {
     "data": {
      "text/html": [
       "<div>\n",
       "<style scoped>\n",
       "    .dataframe tbody tr th:only-of-type {\n",
       "        vertical-align: middle;\n",
       "    }\n",
       "\n",
       "    .dataframe tbody tr th {\n",
       "        vertical-align: top;\n",
       "    }\n",
       "\n",
       "    .dataframe thead th {\n",
       "        text-align: right;\n",
       "    }\n",
       "</style>\n",
       "<table border=\"1\" class=\"dataframe\">\n",
       "  <thead>\n",
       "    <tr style=\"text-align: right;\">\n",
       "      <th></th>\n",
       "      <th>F1 Scores(obscene)</th>\n",
       "      <th>Accuracy Scores(obscene)</th>\n",
       "    </tr>\n",
       "    <tr>\n",
       "      <th>Models</th>\n",
       "      <th></th>\n",
       "      <th></th>\n",
       "    </tr>\n",
       "  </thead>\n",
       "  <tbody>\n",
       "    <tr>\n",
       "      <th>Decision Tree</th>\n",
       "      <td>0.650960</td>\n",
       "      <td>0.733333</td>\n",
       "    </tr>\n",
       "    <tr>\n",
       "      <th>Log. Regression</th>\n",
       "      <td>0.925143</td>\n",
       "      <td>0.925667</td>\n",
       "    </tr>\n",
       "    <tr>\n",
       "      <th>KNN</th>\n",
       "      <td>0.763822</td>\n",
       "      <td>0.706667</td>\n",
       "    </tr>\n",
       "  </tbody>\n",
       "</table>\n",
       "</div>"
      ],
      "text/plain": [
       "                 F1 Scores(obscene)  Accuracy Scores(obscene)\n",
       "Models                                                       \n",
       "Decision Tree              0.650960                  0.733333\n",
       "Log. Regression            0.925143                  0.925667\n",
       "KNN                        0.763822                  0.706667"
      ]
     },
     "execution_count": 75,
     "metadata": {},
     "output_type": "execute_result"
    }
   ],
   "source": [
    "###........Evaluating obscene comments........###\n",
    "obscene_metrics = classifier_CV(df_obs,'obscene')\n",
    "obscene_metrics.rename(columns={'F1 scores':'F1 Scores(obscene)'}, inplace=True)\n",
    "obscene_metrics.rename(columns={'Accuracy Scores':'Accuracy Scores(obscene)'}, inplace=True)\n",
    "obscene_metrics"
   ]
  },
  {
   "cell_type": "code",
   "execution_count": 76,
   "metadata": {},
   "outputs": [
    {
     "name": "stdout",
     "output_type": "stream",
     "text": [
      "....... Decision Tree Results ........\n",
      "....... class type threat ........\n",
      "precision:  0.8901098901098901\n",
      "recall:  0.525974025974026 \n",
      "\n",
      "....... Logistic Regression Results ........\n",
      "....... class type threat ........\n",
      "precision:  0.8402777777777778\n",
      "recall:  0.7857142857142857 \n",
      "\n",
      "....... KNeighbors Classifier Results ........\n",
      "....... class type threat ........\n",
      "precision:  0.6774193548387096\n",
      "recall:  0.5454545454545454 \n",
      "\n"
     ]
    },
    {
     "data": {
      "text/html": [
       "<div>\n",
       "<style scoped>\n",
       "    .dataframe tbody tr th:only-of-type {\n",
       "        vertical-align: middle;\n",
       "    }\n",
       "\n",
       "    .dataframe tbody tr th {\n",
       "        vertical-align: top;\n",
       "    }\n",
       "\n",
       "    .dataframe thead th {\n",
       "        text-align: right;\n",
       "    }\n",
       "</style>\n",
       "<table border=\"1\" class=\"dataframe\">\n",
       "  <thead>\n",
       "    <tr style=\"text-align: right;\">\n",
       "      <th></th>\n",
       "      <th>F1 Scores(threat)</th>\n",
       "      <th>Accuracy Scores(threat)</th>\n",
       "    </tr>\n",
       "    <tr>\n",
       "      <th>Models</th>\n",
       "      <th></th>\n",
       "      <th></th>\n",
       "    </tr>\n",
       "  </thead>\n",
       "  <tbody>\n",
       "    <tr>\n",
       "      <th>Decision Tree</th>\n",
       "      <td>0.661224</td>\n",
       "      <td>0.884240</td>\n",
       "    </tr>\n",
       "    <tr>\n",
       "      <th>Log. Regression</th>\n",
       "      <td>0.812081</td>\n",
       "      <td>0.921897</td>\n",
       "    </tr>\n",
       "    <tr>\n",
       "      <th>KNN</th>\n",
       "      <td>0.604317</td>\n",
       "      <td>0.846583</td>\n",
       "    </tr>\n",
       "  </tbody>\n",
       "</table>\n",
       "</div>"
      ],
      "text/plain": [
       "                 F1 Scores(threat)  Accuracy Scores(threat)\n",
       "Models                                                     \n",
       "Decision Tree             0.661224                 0.884240\n",
       "Log. Regression           0.812081                 0.921897\n",
       "KNN                       0.604317                 0.846583"
      ]
     },
     "execution_count": 76,
     "metadata": {},
     "output_type": "execute_result"
    }
   ],
   "source": [
    "###........Evaluating threat comments........###\n",
    "threat_metrics = classifier_CV(df_thr,'threat')\n",
    "threat_metrics.rename(columns={'F1 scores':'F1 Scores(threat)'}, inplace=True)\n",
    "threat_metrics.rename(columns={'Accuracy Scores':'Accuracy Scores(threat)'}, inplace=True)\n",
    "threat_metrics"
   ]
  },
  {
   "cell_type": "code",
   "execution_count": 77,
   "metadata": {},
   "outputs": [
    {
     "name": "stdout",
     "output_type": "stream",
     "text": [
      "....... Decision Tree Results ........\n",
      "....... class type insult ........\n",
      "precision:  0.9718574108818011\n",
      "recall:  0.33702016916070265 \n",
      "\n",
      "....... Logistic Regression Results ........\n",
      "....... class type insult ........\n",
      "precision:  0.9291121816930489\n",
      "recall:  0.878334417696812 \n",
      "\n",
      "....... KNeighbors Classifier Results ........\n",
      "....... class type insult ........\n",
      "precision:  0.7315242494226328\n",
      "recall:  0.8243331164606376 \n",
      "\n"
     ]
    },
    {
     "data": {
      "text/html": [
       "<div>\n",
       "<style scoped>\n",
       "    .dataframe tbody tr th:only-of-type {\n",
       "        vertical-align: middle;\n",
       "    }\n",
       "\n",
       "    .dataframe tbody tr th {\n",
       "        vertical-align: top;\n",
       "    }\n",
       "\n",
       "    .dataframe thead th {\n",
       "        text-align: right;\n",
       "    }\n",
       "</style>\n",
       "<table border=\"1\" class=\"dataframe\">\n",
       "  <thead>\n",
       "    <tr style=\"text-align: right;\">\n",
       "      <th></th>\n",
       "      <th>F1 Scores(insult)</th>\n",
       "      <th>Accuracy Scores(insult)</th>\n",
       "    </tr>\n",
       "    <tr>\n",
       "      <th>Models</th>\n",
       "      <th></th>\n",
       "      <th></th>\n",
       "    </tr>\n",
       "  </thead>\n",
       "  <tbody>\n",
       "    <tr>\n",
       "      <th>Decision Tree</th>\n",
       "      <td>0.500483</td>\n",
       "      <td>0.655333</td>\n",
       "    </tr>\n",
       "    <tr>\n",
       "      <th>Log. Regression</th>\n",
       "      <td>0.903010</td>\n",
       "      <td>0.903333</td>\n",
       "    </tr>\n",
       "    <tr>\n",
       "      <th>KNN</th>\n",
       "      <td>0.775161</td>\n",
       "      <td>0.755000</td>\n",
       "    </tr>\n",
       "  </tbody>\n",
       "</table>\n",
       "</div>"
      ],
      "text/plain": [
       "                 F1 Scores(insult)  Accuracy Scores(insult)\n",
       "Models                                                     \n",
       "Decision Tree             0.500483                 0.655333\n",
       "Log. Regression           0.903010                 0.903333\n",
       "KNN                       0.775161                 0.755000"
      ]
     },
     "execution_count": 77,
     "metadata": {},
     "output_type": "execute_result"
    }
   ],
   "source": [
    "###........Evaluating insult comments........###\n",
    "insult_metrics = classifier_CV(df_ins,'insult')\n",
    "insult_metrics.rename(columns={'F1 scores':'F1 Scores(insult)'}, inplace=True)\n",
    "insult_metrics.rename(columns={'Accuracy Scores':'Accuracy Scores(insult)'}, inplace=True)\n",
    "insult_metrics"
   ]
  },
  {
   "cell_type": "code",
   "execution_count": 78,
   "metadata": {},
   "outputs": [
    {
     "name": "stdout",
     "output_type": "stream",
     "text": [
      "....... Decision Tree Results ........\n",
      "....... class type identity_hate ........\n",
      "precision:  0.875\n",
      "recall:  0.46136363636363636 \n",
      "\n",
      "....... Logistic Regression Results ........\n",
      "....... class type identity_hate ........\n",
      "precision:  0.8154897494305239\n",
      "recall:  0.8136363636363636 \n",
      "\n",
      "....... KNeighbors Classifier Results ........\n",
      "....... class type identity_hate ........\n",
      "precision:  0.7088948787061995\n",
      "recall:  0.5977272727272728 \n",
      "\n"
     ]
    },
    {
     "data": {
      "text/html": [
       "<div>\n",
       "<style scoped>\n",
       "    .dataframe tbody tr th:only-of-type {\n",
       "        vertical-align: middle;\n",
       "    }\n",
       "\n",
       "    .dataframe tbody tr th {\n",
       "        vertical-align: top;\n",
       "    }\n",
       "\n",
       "    .dataframe thead th {\n",
       "        text-align: right;\n",
       "    }\n",
       "</style>\n",
       "<table border=\"1\" class=\"dataframe\">\n",
       "  <thead>\n",
       "    <tr style=\"text-align: right;\">\n",
       "      <th></th>\n",
       "      <th>F1 Scores(identity_hate)</th>\n",
       "      <th>Accuracy Scores(identity_hate)</th>\n",
       "    </tr>\n",
       "    <tr>\n",
       "      <th>Models</th>\n",
       "      <th></th>\n",
       "      <th></th>\n",
       "    </tr>\n",
       "  </thead>\n",
       "  <tbody>\n",
       "    <tr>\n",
       "      <th>Decision Tree</th>\n",
       "      <td>0.604167</td>\n",
       "      <td>0.873814</td>\n",
       "    </tr>\n",
       "    <tr>\n",
       "      <th>Log. Regression</th>\n",
       "      <td>0.814562</td>\n",
       "      <td>0.922676</td>\n",
       "    </tr>\n",
       "    <tr>\n",
       "      <th>KNN</th>\n",
       "      <td>0.648582</td>\n",
       "      <td>0.864801</td>\n",
       "    </tr>\n",
       "  </tbody>\n",
       "</table>\n",
       "</div>"
      ],
      "text/plain": [
       "                 F1 Scores(identity_hate)  Accuracy Scores(identity_hate)\n",
       "Models                                                                   \n",
       "Decision Tree                    0.604167                        0.873814\n",
       "Log. Regression                  0.814562                        0.922676\n",
       "KNN                              0.648582                        0.864801"
      ]
     },
     "execution_count": 78,
     "metadata": {},
     "output_type": "execute_result"
    }
   ],
   "source": [
    "###........Evaluating identity hate comments........###\n",
    "idhate_metrics = classifier_CV(df_ide,'identity_hate')\n",
    "idhate_metrics.rename(columns={'F1 scores':'F1 Scores(identity_hate)'}, inplace=True)\n",
    "idhate_metrics.rename(columns={'Accuracy Scores':'Accuracy Scores(identity_hate)'}, inplace=True)\n",
    "idhate_metrics"
   ]
  },
  {
   "cell_type": "code",
   "execution_count": 79,
   "metadata": {},
   "outputs": [],
   "source": [
    "all_metrics = pd.concat([toxic_metrics,sevtoxic_metrics,obscene_metrics,threat_metrics,insult_metrics,idhate_metrics],axis=1)"
   ]
  },
  {
   "cell_type": "code",
   "execution_count": 80,
   "metadata": {},
   "outputs": [],
   "source": [
    "f1= ['F1 Scores(toxic)', 'F1 Scores(severe_toxic)','F1 Scores(obscene)','F1 Scores(threat)','F1 Scores(insult)','F1 Scores(identity_hate)']\n",
    "acc = ['Accuracy Scores(toxic)','Accuracy Scores(severe_toxic)','Accuracy Scores(obscene)','Accuracy Scores(threat)',\n",
    "        'Accuracy Scores(insult)','Accuracy Scores(identity_hate)']\n"
   ]
  },
  {
   "cell_type": "code",
   "execution_count": 84,
   "metadata": {},
   "outputs": [
    {
     "data": {
      "text/html": [
       "<div>\n",
       "<style scoped>\n",
       "    .dataframe tbody tr th:only-of-type {\n",
       "        vertical-align: middle;\n",
       "    }\n",
       "\n",
       "    .dataframe tbody tr th {\n",
       "        vertical-align: top;\n",
       "    }\n",
       "\n",
       "    .dataframe thead th {\n",
       "        text-align: right;\n",
       "    }\n",
       "</style>\n",
       "<table border=\"1\" class=\"dataframe\">\n",
       "  <thead>\n",
       "    <tr style=\"text-align: right;\">\n",
       "      <th>Models</th>\n",
       "      <th>Decision Tree</th>\n",
       "      <th>Log. Regression</th>\n",
       "      <th>KNN</th>\n",
       "    </tr>\n",
       "  </thead>\n",
       "  <tbody>\n",
       "    <tr>\n",
       "      <th>F1 Scores(toxic)</th>\n",
       "      <td>0.381503</td>\n",
       "      <td>0.870698</td>\n",
       "      <td>0.738295</td>\n",
       "    </tr>\n",
       "    <tr>\n",
       "      <th>F1 Scores(severe_toxic)</th>\n",
       "      <td>0.760705</td>\n",
       "      <td>0.924731</td>\n",
       "      <td>0.824838</td>\n",
       "    </tr>\n",
       "    <tr>\n",
       "      <th>F1 Scores(obscene)</th>\n",
       "      <td>0.650960</td>\n",
       "      <td>0.925143</td>\n",
       "      <td>0.763822</td>\n",
       "    </tr>\n",
       "    <tr>\n",
       "      <th>F1 Scores(threat)</th>\n",
       "      <td>0.661224</td>\n",
       "      <td>0.812081</td>\n",
       "      <td>0.604317</td>\n",
       "    </tr>\n",
       "    <tr>\n",
       "      <th>F1 Scores(insult)</th>\n",
       "      <td>0.500483</td>\n",
       "      <td>0.903010</td>\n",
       "      <td>0.775161</td>\n",
       "    </tr>\n",
       "    <tr>\n",
       "      <th>F1 Scores(identity_hate)</th>\n",
       "      <td>0.604167</td>\n",
       "      <td>0.814562</td>\n",
       "      <td>0.648582</td>\n",
       "    </tr>\n",
       "  </tbody>\n",
       "</table>\n",
       "</div>"
      ],
      "text/plain": [
       "Models                    Decision Tree  Log. Regression       KNN\n",
       "F1 Scores(toxic)               0.381503         0.870698  0.738295\n",
       "F1 Scores(severe_toxic)        0.760705         0.924731  0.824838\n",
       "F1 Scores(obscene)             0.650960         0.925143  0.763822\n",
       "F1 Scores(threat)              0.661224         0.812081  0.604317\n",
       "F1 Scores(insult)              0.500483         0.903010  0.775161\n",
       "F1 Scores(identity_hate)       0.604167         0.814562  0.648582"
      ]
     },
     "execution_count": 84,
     "metadata": {},
     "output_type": "execute_result"
    }
   ],
   "source": [
    "f1_scores_CV = all_metrics[f1].transpose()\n",
    "f1_scores_CV"
   ]
  },
  {
   "cell_type": "code",
   "execution_count": 85,
   "metadata": {},
   "outputs": [
    {
     "data": {
      "text/html": [
       "<div>\n",
       "<style scoped>\n",
       "    .dataframe tbody tr th:only-of-type {\n",
       "        vertical-align: middle;\n",
       "    }\n",
       "\n",
       "    .dataframe tbody tr th {\n",
       "        vertical-align: top;\n",
       "    }\n",
       "\n",
       "    .dataframe thead th {\n",
       "        text-align: right;\n",
       "    }\n",
       "</style>\n",
       "<table border=\"1\" class=\"dataframe\">\n",
       "  <thead>\n",
       "    <tr style=\"text-align: right;\">\n",
       "      <th>Models</th>\n",
       "      <th>Decision Tree</th>\n",
       "      <th>Log. Regression</th>\n",
       "      <th>KNN</th>\n",
       "    </tr>\n",
       "  </thead>\n",
       "  <tbody>\n",
       "    <tr>\n",
       "      <th>Accuracy Scores(toxic)</th>\n",
       "      <td>0.607667</td>\n",
       "      <td>0.871000</td>\n",
       "      <td>0.709333</td>\n",
       "    </tr>\n",
       "    <tr>\n",
       "      <th>Accuracy Scores(severe_toxic)</th>\n",
       "      <td>0.801463</td>\n",
       "      <td>0.926855</td>\n",
       "      <td>0.802508</td>\n",
       "    </tr>\n",
       "    <tr>\n",
       "      <th>Accuracy Scores(obscene)</th>\n",
       "      <td>0.733333</td>\n",
       "      <td>0.925667</td>\n",
       "      <td>0.706667</td>\n",
       "    </tr>\n",
       "    <tr>\n",
       "      <th>Accuracy Scores(threat)</th>\n",
       "      <td>0.884240</td>\n",
       "      <td>0.921897</td>\n",
       "      <td>0.846583</td>\n",
       "    </tr>\n",
       "    <tr>\n",
       "      <th>Accuracy Scores(insult)</th>\n",
       "      <td>0.655333</td>\n",
       "      <td>0.903333</td>\n",
       "      <td>0.755000</td>\n",
       "    </tr>\n",
       "    <tr>\n",
       "      <th>Accuracy Scores(identity_hate)</th>\n",
       "      <td>0.873814</td>\n",
       "      <td>0.922676</td>\n",
       "      <td>0.864801</td>\n",
       "    </tr>\n",
       "  </tbody>\n",
       "</table>\n",
       "</div>"
      ],
      "text/plain": [
       "Models                          Decision Tree  Log. Regression       KNN\n",
       "Accuracy Scores(toxic)               0.607667         0.871000  0.709333\n",
       "Accuracy Scores(severe_toxic)        0.801463         0.926855  0.802508\n",
       "Accuracy Scores(obscene)             0.733333         0.925667  0.706667\n",
       "Accuracy Scores(threat)              0.884240         0.921897  0.846583\n",
       "Accuracy Scores(insult)              0.655333         0.903333  0.755000\n",
       "Accuracy Scores(identity_hate)       0.873814         0.922676  0.864801"
      ]
     },
     "execution_count": 85,
     "metadata": {},
     "output_type": "execute_result"
    }
   ],
   "source": [
    "acc_scores_CV = all_metrics[acc].transpose()\n",
    "acc_scores_CV"
   ]
  },
  {
   "cell_type": "markdown",
   "metadata": {},
   "source": [
    "## Use of TF-IDF vectorizer\n",
    "countVectorizer can bias the model in favor of most frequent words in a document.\n",
    "TfidfVectorizer overcomes this shortcoming of countVectorizer and considers the overall document weightage of a word.\n",
    "This can help improve accuracies especilly for classification models"
   ]
  },
  {
   "cell_type": "code",
   "execution_count": 86,
   "metadata": {},
   "outputs": [],
   "source": [
    "def classifier_TFIDF(df,types):\n",
    "    # Split the data into X and y data sets\n",
    "    X = df.comment_text\n",
    "    y = df[types]\n",
    "\n",
    "    # Split our data into training and test data \n",
    "    X_train, X_test, y_train, y_test = train_test_split(X, y, test_size=0.3, random_state=42)\n",
    "    \n",
    "    # Create a Vectorizer object and remove stopwords from the table\n",
    "    cv1 = TfidfVectorizer(ngram_range=(1,1), stop_words='english')\n",
    "    \n",
    "    X_train_cv1 = cv1.fit_transform(X_train) # Learn the vocabulary dictionary and return term-document matrix\n",
    "    X_test_cv1  = cv1.transform(X_test)      # Learn a vocabulary dictionary of all tokens in the raw documents.\n",
    "    \n",
    "    ####.......Decision Tree........####\n",
    "    dt = DecisionTreeClassifier(max_depth =3, random_state = 42)\n",
    "    dt.fit(X_train_cv1, y_train)\n",
    "    dt_f1 = f1_score(dt.predict(X_test_cv1), y_test)\n",
    "    dt_model_eval = eval_tp(actual=y_test,propensity=pd.DataFrame(dt.predict_proba(X_test_cv1)).iloc[:,1],cutoff=0.5)\n",
    "    print('....... Decision Tree Results ........')\n",
    "    print('....... class type {} ........'.format(types))\n",
    "    print('precision: ',dt_model_eval[1])\n",
    "    print('recall: ',dt_model_eval[0],'\\n')\n",
    "    dt_accuracy = dt_model_eval[2]\n",
    "    \n",
    "    ####.......Logistic Regression........####\n",
    "    lr = LogisticRegression(solver='lbfgs',class_weight='balanced', max_iter=10000)\n",
    "    lr.fit(X_train_cv1, y_train)\n",
    "    lr_f1 = f1_score(lr.predict(X_test_cv1), y_test)\n",
    "    lr_model_eval = eval_tp(actual=y_test,propensity=pd.DataFrame(lr.predict_proba(X_test_cv1)).iloc[:,1],cutoff=0.5)\n",
    "    print('....... Logistic Regression Results ........')\n",
    "    print('....... class type {} ........'.format(types))\n",
    "    print('precision: ',lr_model_eval[1])\n",
    "    print('recall: ',lr_model_eval[0],'\\n')\n",
    "    lr_accuracy = lr_model_eval[2]\n",
    "    \n",
    "    ####.......KNeighbors Classifier........####\n",
    "    knn = KNeighborsClassifier(n_neighbors=5)\n",
    "    knn.fit(X_train_cv1, y_train)\n",
    "    knn_f1 = f1_score(knn.predict(X_test_cv1), y_test)\n",
    "    knn_model_eval = eval_tp(actual=y_test,propensity=pd.DataFrame(knn.predict_proba(X_test_cv1)).iloc[:,1],cutoff=0.5)\n",
    "    print('....... KNeighbors Classifier Results ........')\n",
    "    print('....... class type {} ........'.format(types))\n",
    "    print('precision: ',knn_model_eval[1])\n",
    "    print('recall: ',knn_model_eval[0],'\\n')\n",
    "    knn_accuracy = knn_model_eval[2]\n",
    "    \n",
    "    #####.......collating the results........####\n",
    "    models = ['Decision Tree','Log. Regression','KNN']\n",
    "    f1_scores = [dt_f1,lr_f1,knn_f1]\n",
    "    accuracy_scores = [dt_accuracy,lr_accuracy,knn_accuracy]\n",
    "    df_metrics = pd.DataFrame({'Models': models, 'F1 scores': f1_scores,'Accuracy Scores':accuracy_scores})\n",
    "    df_metrics.set_index(\"Models\", inplace = True)\n",
    "    return df_metrics\n",
    "\n",
    "    "
   ]
  },
  {
   "cell_type": "code",
   "execution_count": 67,
   "metadata": {},
   "outputs": [
    {
     "name": "stdout",
     "output_type": "stream",
     "text": [
      "....... Decision Tree Results ........\n",
      "....... class type toxic ........\n",
      "precision:  0.9918032786885246\n",
      "recall:  0.236174365647365 \n",
      "\n",
      "....... Logistic Regression Results ........\n",
      "....... class type toxic ........\n",
      "precision:  0.9043909348441926\n",
      "recall:  0.8308392973324659 \n",
      "\n",
      "....... KNeighbors Classifier Results ........\n",
      "....... class type toxic ........\n",
      "precision:  0.670393777345649\n",
      "recall:  0.8972023422251139 \n",
      "\n",
      "....... Decision Tree Results ........\n",
      "....... class type severe_toxic ........\n",
      "precision:  0.964968152866242\n",
      "recall:  0.6299376299376299 \n",
      "\n",
      "....... Logistic Regression Results ........\n",
      "....... class type severe_toxic ........\n",
      "precision:  0.963963963963964\n",
      "recall:  0.8898128898128899 \n",
      "\n",
      "....... KNeighbors Classifier Results ........\n",
      "....... class type severe_toxic ........\n",
      "precision:  0.7985989492119089\n",
      "recall:  0.9480249480249481 \n",
      "\n",
      "....... Decision Tree Results ........\n",
      "....... class type obscene ........\n",
      "precision:  0.9880636604774535\n",
      "recall:  0.4847104749512036 \n",
      "\n",
      "....... Logistic Regression Results ........\n",
      "....... class type obscene ........\n",
      "precision:  0.9543183440399714\n",
      "recall:  0.8698763825634352 \n",
      "\n",
      "....... KNeighbors Classifier Results ........\n",
      "....... class type obscene ........\n",
      "precision:  0.5192828146143437\n",
      "recall:  0.9986987638256344 \n",
      "\n",
      "....... Decision Tree Results ........\n",
      "....... class type threat ........\n",
      "precision:  0.8791208791208791\n",
      "recall:  0.5194805194805194 \n",
      "\n",
      "....... Logistic Regression Results ........\n",
      "....... class type threat ........\n",
      "precision:  0.8848920863309353\n",
      "recall:  0.7987012987012987 \n",
      "\n",
      "....... KNeighbors Classifier Results ........\n",
      "....... class type threat ........\n",
      "precision:  0.7635135135135135\n",
      "recall:  0.7337662337662337 \n",
      "\n",
      "....... Decision Tree Results ........\n",
      "....... class type insult ........\n",
      "precision:  0.9718574108818011\n",
      "recall:  0.33702016916070265 \n",
      "\n",
      "....... Logistic Regression Results ........\n",
      "....... class type insult ........\n",
      "precision:  0.937721160651097\n",
      "recall:  0.8620689655172413 \n",
      "\n",
      "....... KNeighbors Classifier Results ........\n",
      "....... class type insult ........\n",
      "precision:  0.6790361445783133\n",
      "recall:  0.9167208848405985 \n",
      "\n",
      "....... Decision Tree Results ........\n",
      "....... class type identity_hate ........\n",
      "precision:  0.8815165876777251\n",
      "recall:  0.42272727272727273 \n",
      "\n",
      "....... Logistic Regression Results ........\n",
      "....... class type identity_hate ........\n",
      "precision:  0.810989010989011\n",
      "recall:  0.8386363636363636 \n",
      "\n",
      "....... KNeighbors Classifier Results ........\n",
      "....... class type identity_hate ........\n",
      "precision:  0.6079664570230608\n",
      "recall:  0.6590909090909091 \n",
      "\n"
     ]
    }
   ],
   "source": [
    "###........Evaluating toxic comments........###\n",
    "toxic_metrics = classifier_TFIDF(df_tox,'toxic')\n",
    "toxic_metrics.rename(columns={'F1 scores':'F1 Scores(toxic)'}, inplace=True)\n",
    "toxic_metrics.rename(columns={'Accuracy Scores':'Accuracy Scores(toxic)'}, inplace=True)\n",
    "toxic_metrics\n",
    "\n",
    "###........Evaluating severe toxic comments........###\n",
    "sevtoxic_metrics = classifier_TFIDF(df_sev,'severe_toxic')\n",
    "sevtoxic_metrics.rename(columns={'F1 scores':'F1 Scores(severe_toxic)'}, inplace=True)\n",
    "sevtoxic_metrics.rename(columns={'Accuracy Scores':'Accuracy Scores(severe_toxic)'}, inplace=True)\n",
    "sevtoxic_metrics\n",
    "\n",
    "###........Evaluating obscene comments........###\n",
    "obscene_metrics = classifier_TFIDF(df_obs,'obscene')\n",
    "obscene_metrics.rename(columns={'F1 scores':'F1 Scores(obscene)'}, inplace=True)\n",
    "obscene_metrics.rename(columns={'Accuracy Scores':'Accuracy Scores(obscene)'}, inplace=True)\n",
    "obscene_metrics\n",
    "\n",
    "###........Evaluating threat comments........###\n",
    "threat_metrics = classifier_TFIDF(df_thr,'threat')\n",
    "threat_metrics.rename(columns={'F1 scores':'F1 Scores(threat)'}, inplace=True)\n",
    "threat_metrics.rename(columns={'Accuracy Scores':'Accuracy Scores(threat)'}, inplace=True)\n",
    "threat_metrics\n",
    "\n",
    "###........Evaluating insult comments........###\n",
    "insult_metrics = classifier_TFIDF(df_ins,'insult')\n",
    "insult_metrics.rename(columns={'F1 scores':'F1 Scores(insult)'}, inplace=True)\n",
    "insult_metrics.rename(columns={'Accuracy Scores':'Accuracy Scores(insult)'}, inplace=True)\n",
    "insult_metrics\n",
    "\n",
    "###........Evaluating identity hate comments........###\n",
    "idhate_metrics = classifier_TFIDF(df_ide,'identity_hate')\n",
    "idhate_metrics.rename(columns={'F1 scores':'F1 Scores(identity_hate)'}, inplace=True)\n",
    "idhate_metrics.rename(columns={'Accuracy Scores':'Accuracy Scores(identity_hate)'}, inplace=True)\n",
    "#idhate_metrics"
   ]
  },
  {
   "cell_type": "code",
   "execution_count": 87,
   "metadata": {},
   "outputs": [],
   "source": [
    "all_metrics = pd.concat([toxic_metrics,sevtoxic_metrics,obscene_metrics,threat_metrics,insult_metrics,idhate_metrics],axis=1)\n",
    "\n",
    "f1= ['F1 Scores(toxic)', 'F1 Scores(severe_toxic)','F1 Scores(obscene)','F1 Scores(threat)','F1 Scores(insult)','F1 Scores(identity_hate)']\n",
    "acc = ['Accuracy Scores(toxic)','Accuracy Scores(severe_toxic)','Accuracy Scores(obscene)','Accuracy Scores(threat)',\n",
    "        'Accuracy Scores(insult)','Accuracy Scores(identity_hate)']\n"
   ]
  },
  {
   "cell_type": "code",
   "execution_count": 88,
   "metadata": {},
   "outputs": [
    {
     "data": {
      "text/html": [
       "<div>\n",
       "<style scoped>\n",
       "    .dataframe tbody tr th:only-of-type {\n",
       "        vertical-align: middle;\n",
       "    }\n",
       "\n",
       "    .dataframe tbody tr th {\n",
       "        vertical-align: top;\n",
       "    }\n",
       "\n",
       "    .dataframe thead th {\n",
       "        text-align: right;\n",
       "    }\n",
       "</style>\n",
       "<table border=\"1\" class=\"dataframe\">\n",
       "  <thead>\n",
       "    <tr style=\"text-align: right;\">\n",
       "      <th>Models</th>\n",
       "      <th>Decision Tree</th>\n",
       "      <th>Log. Regression</th>\n",
       "      <th>KNN</th>\n",
       "    </tr>\n",
       "  </thead>\n",
       "  <tbody>\n",
       "    <tr>\n",
       "      <th>F1 Scores(toxic)</th>\n",
       "      <td>0.381503</td>\n",
       "      <td>0.870698</td>\n",
       "      <td>0.738295</td>\n",
       "    </tr>\n",
       "    <tr>\n",
       "      <th>F1 Scores(severe_toxic)</th>\n",
       "      <td>0.760705</td>\n",
       "      <td>0.924731</td>\n",
       "      <td>0.824838</td>\n",
       "    </tr>\n",
       "    <tr>\n",
       "      <th>F1 Scores(obscene)</th>\n",
       "      <td>0.650960</td>\n",
       "      <td>0.925143</td>\n",
       "      <td>0.763822</td>\n",
       "    </tr>\n",
       "    <tr>\n",
       "      <th>F1 Scores(threat)</th>\n",
       "      <td>0.661224</td>\n",
       "      <td>0.812081</td>\n",
       "      <td>0.604317</td>\n",
       "    </tr>\n",
       "    <tr>\n",
       "      <th>F1 Scores(insult)</th>\n",
       "      <td>0.500483</td>\n",
       "      <td>0.903010</td>\n",
       "      <td>0.775161</td>\n",
       "    </tr>\n",
       "    <tr>\n",
       "      <th>F1 Scores(identity_hate)</th>\n",
       "      <td>0.604167</td>\n",
       "      <td>0.814562</td>\n",
       "      <td>0.648582</td>\n",
       "    </tr>\n",
       "  </tbody>\n",
       "</table>\n",
       "</div>"
      ],
      "text/plain": [
       "Models                    Decision Tree  Log. Regression       KNN\n",
       "F1 Scores(toxic)               0.381503         0.870698  0.738295\n",
       "F1 Scores(severe_toxic)        0.760705         0.924731  0.824838\n",
       "F1 Scores(obscene)             0.650960         0.925143  0.763822\n",
       "F1 Scores(threat)              0.661224         0.812081  0.604317\n",
       "F1 Scores(insult)              0.500483         0.903010  0.775161\n",
       "F1 Scores(identity_hate)       0.604167         0.814562  0.648582"
      ]
     },
     "execution_count": 88,
     "metadata": {},
     "output_type": "execute_result"
    }
   ],
   "source": [
    "f1_scores_TFIDF = all_metrics[f1].transpose()\n",
    "f1_scores_TFIDF"
   ]
  },
  {
   "cell_type": "code",
   "execution_count": 89,
   "metadata": {},
   "outputs": [
    {
     "data": {
      "text/html": [
       "<div>\n",
       "<style scoped>\n",
       "    .dataframe tbody tr th:only-of-type {\n",
       "        vertical-align: middle;\n",
       "    }\n",
       "\n",
       "    .dataframe tbody tr th {\n",
       "        vertical-align: top;\n",
       "    }\n",
       "\n",
       "    .dataframe thead th {\n",
       "        text-align: right;\n",
       "    }\n",
       "</style>\n",
       "<table border=\"1\" class=\"dataframe\">\n",
       "  <thead>\n",
       "    <tr style=\"text-align: right;\">\n",
       "      <th>Models</th>\n",
       "      <th>Decision Tree</th>\n",
       "      <th>Log. Regression</th>\n",
       "      <th>KNN</th>\n",
       "    </tr>\n",
       "  </thead>\n",
       "  <tbody>\n",
       "    <tr>\n",
       "      <th>Accuracy Scores(toxic)</th>\n",
       "      <td>0.607667</td>\n",
       "      <td>0.871000</td>\n",
       "      <td>0.709333</td>\n",
       "    </tr>\n",
       "    <tr>\n",
       "      <th>Accuracy Scores(severe_toxic)</th>\n",
       "      <td>0.801463</td>\n",
       "      <td>0.926855</td>\n",
       "      <td>0.802508</td>\n",
       "    </tr>\n",
       "    <tr>\n",
       "      <th>Accuracy Scores(obscene)</th>\n",
       "      <td>0.733333</td>\n",
       "      <td>0.925667</td>\n",
       "      <td>0.706667</td>\n",
       "    </tr>\n",
       "    <tr>\n",
       "      <th>Accuracy Scores(threat)</th>\n",
       "      <td>0.884240</td>\n",
       "      <td>0.921897</td>\n",
       "      <td>0.846583</td>\n",
       "    </tr>\n",
       "    <tr>\n",
       "      <th>Accuracy Scores(insult)</th>\n",
       "      <td>0.655333</td>\n",
       "      <td>0.903333</td>\n",
       "      <td>0.755000</td>\n",
       "    </tr>\n",
       "    <tr>\n",
       "      <th>Accuracy Scores(identity_hate)</th>\n",
       "      <td>0.873814</td>\n",
       "      <td>0.922676</td>\n",
       "      <td>0.864801</td>\n",
       "    </tr>\n",
       "  </tbody>\n",
       "</table>\n",
       "</div>"
      ],
      "text/plain": [
       "Models                          Decision Tree  Log. Regression       KNN\n",
       "Accuracy Scores(toxic)               0.607667         0.871000  0.709333\n",
       "Accuracy Scores(severe_toxic)        0.801463         0.926855  0.802508\n",
       "Accuracy Scores(obscene)             0.733333         0.925667  0.706667\n",
       "Accuracy Scores(threat)              0.884240         0.921897  0.846583\n",
       "Accuracy Scores(insult)              0.655333         0.903333  0.755000\n",
       "Accuracy Scores(identity_hate)       0.873814         0.922676  0.864801"
      ]
     },
     "execution_count": 89,
     "metadata": {},
     "output_type": "execute_result"
    }
   ],
   "source": [
    "acc_scores_TFIDF = all_metrics[acc].transpose()\n",
    "acc_scores_TFIDF"
   ]
  },
  {
   "cell_type": "markdown",
   "metadata": {},
   "source": [
    "## Need for F1 score and accuracy score\n",
    "Accuracy score is useful when class distribution is balanced and when true positives and true negatives are more important than false negatives or false positives.\n",
    "\n",
    "In most real-life classification problems like this one, the data may not be always balanced and false negatives or false positives can impact business, F1 score is a better measure. Hence I have shown both the metrics.\n"
   ]
  },
  {
   "cell_type": "code",
   "execution_count": 97,
   "metadata": {},
   "outputs": [],
   "source": [
    "############## Count vectorizer results ######################"
   ]
  },
  {
   "cell_type": "code",
   "execution_count": 98,
   "metadata": {},
   "outputs": [
    {
     "data": {
      "text/html": [
       "<div>\n",
       "<style scoped>\n",
       "    .dataframe tbody tr th:only-of-type {\n",
       "        vertical-align: middle;\n",
       "    }\n",
       "\n",
       "    .dataframe tbody tr th {\n",
       "        vertical-align: top;\n",
       "    }\n",
       "\n",
       "    .dataframe thead th {\n",
       "        text-align: right;\n",
       "    }\n",
       "</style>\n",
       "<table border=\"1\" class=\"dataframe\">\n",
       "  <thead>\n",
       "    <tr style=\"text-align: right;\">\n",
       "      <th>Models</th>\n",
       "      <th>Decision Tree</th>\n",
       "      <th>Log. Regression</th>\n",
       "      <th>KNN</th>\n",
       "    </tr>\n",
       "  </thead>\n",
       "  <tbody>\n",
       "    <tr>\n",
       "      <th>F1 Scores(toxic)</th>\n",
       "      <td>0.381503</td>\n",
       "      <td>0.870698</td>\n",
       "      <td>0.738295</td>\n",
       "    </tr>\n",
       "    <tr>\n",
       "      <th>F1 Scores(severe_toxic)</th>\n",
       "      <td>0.760705</td>\n",
       "      <td>0.924731</td>\n",
       "      <td>0.824838</td>\n",
       "    </tr>\n",
       "    <tr>\n",
       "      <th>F1 Scores(obscene)</th>\n",
       "      <td>0.650960</td>\n",
       "      <td>0.925143</td>\n",
       "      <td>0.763822</td>\n",
       "    </tr>\n",
       "    <tr>\n",
       "      <th>F1 Scores(threat)</th>\n",
       "      <td>0.661224</td>\n",
       "      <td>0.812081</td>\n",
       "      <td>0.604317</td>\n",
       "    </tr>\n",
       "    <tr>\n",
       "      <th>F1 Scores(insult)</th>\n",
       "      <td>0.500483</td>\n",
       "      <td>0.903010</td>\n",
       "      <td>0.775161</td>\n",
       "    </tr>\n",
       "    <tr>\n",
       "      <th>F1 Scores(identity_hate)</th>\n",
       "      <td>0.604167</td>\n",
       "      <td>0.814562</td>\n",
       "      <td>0.648582</td>\n",
       "    </tr>\n",
       "  </tbody>\n",
       "</table>\n",
       "</div>"
      ],
      "text/plain": [
       "Models                    Decision Tree  Log. Regression       KNN\n",
       "F1 Scores(toxic)               0.381503         0.870698  0.738295\n",
       "F1 Scores(severe_toxic)        0.760705         0.924731  0.824838\n",
       "F1 Scores(obscene)             0.650960         0.925143  0.763822\n",
       "F1 Scores(threat)              0.661224         0.812081  0.604317\n",
       "F1 Scores(insult)              0.500483         0.903010  0.775161\n",
       "F1 Scores(identity_hate)       0.604167         0.814562  0.648582"
      ]
     },
     "execution_count": 98,
     "metadata": {},
     "output_type": "execute_result"
    }
   ],
   "source": [
    "f1_scores_CV"
   ]
  },
  {
   "cell_type": "code",
   "execution_count": 99,
   "metadata": {},
   "outputs": [
    {
     "data": {
      "text/html": [
       "<div>\n",
       "<style scoped>\n",
       "    .dataframe tbody tr th:only-of-type {\n",
       "        vertical-align: middle;\n",
       "    }\n",
       "\n",
       "    .dataframe tbody tr th {\n",
       "        vertical-align: top;\n",
       "    }\n",
       "\n",
       "    .dataframe thead th {\n",
       "        text-align: right;\n",
       "    }\n",
       "</style>\n",
       "<table border=\"1\" class=\"dataframe\">\n",
       "  <thead>\n",
       "    <tr style=\"text-align: right;\">\n",
       "      <th>Models</th>\n",
       "      <th>Decision Tree</th>\n",
       "      <th>Log. Regression</th>\n",
       "      <th>KNN</th>\n",
       "    </tr>\n",
       "  </thead>\n",
       "  <tbody>\n",
       "    <tr>\n",
       "      <th>Accuracy Scores(toxic)</th>\n",
       "      <td>0.607667</td>\n",
       "      <td>0.871000</td>\n",
       "      <td>0.709333</td>\n",
       "    </tr>\n",
       "    <tr>\n",
       "      <th>Accuracy Scores(severe_toxic)</th>\n",
       "      <td>0.801463</td>\n",
       "      <td>0.926855</td>\n",
       "      <td>0.802508</td>\n",
       "    </tr>\n",
       "    <tr>\n",
       "      <th>Accuracy Scores(obscene)</th>\n",
       "      <td>0.733333</td>\n",
       "      <td>0.925667</td>\n",
       "      <td>0.706667</td>\n",
       "    </tr>\n",
       "    <tr>\n",
       "      <th>Accuracy Scores(threat)</th>\n",
       "      <td>0.884240</td>\n",
       "      <td>0.921897</td>\n",
       "      <td>0.846583</td>\n",
       "    </tr>\n",
       "    <tr>\n",
       "      <th>Accuracy Scores(insult)</th>\n",
       "      <td>0.655333</td>\n",
       "      <td>0.903333</td>\n",
       "      <td>0.755000</td>\n",
       "    </tr>\n",
       "    <tr>\n",
       "      <th>Accuracy Scores(identity_hate)</th>\n",
       "      <td>0.873814</td>\n",
       "      <td>0.922676</td>\n",
       "      <td>0.864801</td>\n",
       "    </tr>\n",
       "  </tbody>\n",
       "</table>\n",
       "</div>"
      ],
      "text/plain": [
       "Models                          Decision Tree  Log. Regression       KNN\n",
       "Accuracy Scores(toxic)               0.607667         0.871000  0.709333\n",
       "Accuracy Scores(severe_toxic)        0.801463         0.926855  0.802508\n",
       "Accuracy Scores(obscene)             0.733333         0.925667  0.706667\n",
       "Accuracy Scores(threat)              0.884240         0.921897  0.846583\n",
       "Accuracy Scores(insult)              0.655333         0.903333  0.755000\n",
       "Accuracy Scores(identity_hate)       0.873814         0.922676  0.864801"
      ]
     },
     "execution_count": 99,
     "metadata": {},
     "output_type": "execute_result"
    }
   ],
   "source": [
    "acc_scores_CV"
   ]
  },
  {
   "cell_type": "code",
   "execution_count": 91,
   "metadata": {},
   "outputs": [
    {
     "data": {
      "text/plain": [
       "Text(0.5, 1.0, 'Accuracy Scores of the models - Count vectorizer')"
      ]
     },
     "execution_count": 91,
     "metadata": {},
     "output_type": "execute_result"
    },
    {
     "data": {
      "image/png": "[encoded data removed]",
      "text/plain": [
       "<Figure size 1440x576 with 2 Axes>"
      ]
     },
     "metadata": {
      "needs_background": "light"
     },
     "output_type": "display_data"
    }
   ],
   "source": [
    "fig = plt.figure(figsize=(20, 8))\n",
    "plt.subplot(1, 2, 1)\n",
    "sns.lineplot(data=f1_scores_CV, size=[30,20], markers=True)\n",
    "plt.xticks(rotation='90', fontsize=14)\n",
    "plt.yticks(fontsize=14)\n",
    "plt.legend(loc='best')\n",
    "plt.title('F1 Scores of the models - Count vectorizer', fontsize=10)\n",
    "\n",
    "plt.subplot(1, 2, 2)\n",
    "sns.lineplot(data=acc_scores_CV, size=[30,20], markers=True)\n",
    "plt.xticks(rotation='90', fontsize=14)\n",
    "plt.yticks(fontsize=14)\n",
    "plt.legend(loc='best')\n",
    "plt.title('Accuracy Scores of the models - Count vectorizer', fontsize=10)\n"
   ]
  },
  {
   "cell_type": "code",
   "execution_count": null,
   "metadata": {},
   "outputs": [],
   "source": [
    "############## TF-IDF vectorizer results ######################"
   ]
  },
  {
   "cell_type": "code",
   "execution_count": 95,
   "metadata": {},
   "outputs": [
    {
     "data": {
      "text/html": [
       "<div>\n",
       "<style scoped>\n",
       "    .dataframe tbody tr th:only-of-type {\n",
       "        vertical-align: middle;\n",
       "    }\n",
       "\n",
       "    .dataframe tbody tr th {\n",
       "        vertical-align: top;\n",
       "    }\n",
       "\n",
       "    .dataframe thead th {\n",
       "        text-align: right;\n",
       "    }\n",
       "</style>\n",
       "<table border=\"1\" class=\"dataframe\">\n",
       "  <thead>\n",
       "    <tr style=\"text-align: right;\">\n",
       "      <th>Models</th>\n",
       "      <th>Decision Tree</th>\n",
       "      <th>Log. Regression</th>\n",
       "      <th>KNN</th>\n",
       "    </tr>\n",
       "  </thead>\n",
       "  <tbody>\n",
       "    <tr>\n",
       "      <th>F1 Scores(toxic)</th>\n",
       "      <td>0.381503</td>\n",
       "      <td>0.870698</td>\n",
       "      <td>0.738295</td>\n",
       "    </tr>\n",
       "    <tr>\n",
       "      <th>F1 Scores(severe_toxic)</th>\n",
       "      <td>0.760705</td>\n",
       "      <td>0.924731</td>\n",
       "      <td>0.824838</td>\n",
       "    </tr>\n",
       "    <tr>\n",
       "      <th>F1 Scores(obscene)</th>\n",
       "      <td>0.650960</td>\n",
       "      <td>0.925143</td>\n",
       "      <td>0.763822</td>\n",
       "    </tr>\n",
       "    <tr>\n",
       "      <th>F1 Scores(threat)</th>\n",
       "      <td>0.661224</td>\n",
       "      <td>0.812081</td>\n",
       "      <td>0.604317</td>\n",
       "    </tr>\n",
       "    <tr>\n",
       "      <th>F1 Scores(insult)</th>\n",
       "      <td>0.500483</td>\n",
       "      <td>0.903010</td>\n",
       "      <td>0.775161</td>\n",
       "    </tr>\n",
       "    <tr>\n",
       "      <th>F1 Scores(identity_hate)</th>\n",
       "      <td>0.604167</td>\n",
       "      <td>0.814562</td>\n",
       "      <td>0.648582</td>\n",
       "    </tr>\n",
       "  </tbody>\n",
       "</table>\n",
       "</div>"
      ],
      "text/plain": [
       "Models                    Decision Tree  Log. Regression       KNN\n",
       "F1 Scores(toxic)               0.381503         0.870698  0.738295\n",
       "F1 Scores(severe_toxic)        0.760705         0.924731  0.824838\n",
       "F1 Scores(obscene)             0.650960         0.925143  0.763822\n",
       "F1 Scores(threat)              0.661224         0.812081  0.604317\n",
       "F1 Scores(insult)              0.500483         0.903010  0.775161\n",
       "F1 Scores(identity_hate)       0.604167         0.814562  0.648582"
      ]
     },
     "execution_count": 95,
     "metadata": {},
     "output_type": "execute_result"
    }
   ],
   "source": [
    "f1_scores_TFIDF"
   ]
  },
  {
   "cell_type": "code",
   "execution_count": 96,
   "metadata": {},
   "outputs": [
    {
     "data": {
      "text/html": [
       "<div>\n",
       "<style scoped>\n",
       "    .dataframe tbody tr th:only-of-type {\n",
       "        vertical-align: middle;\n",
       "    }\n",
       "\n",
       "    .dataframe tbody tr th {\n",
       "        vertical-align: top;\n",
       "    }\n",
       "\n",
       "    .dataframe thead th {\n",
       "        text-align: right;\n",
       "    }\n",
       "</style>\n",
       "<table border=\"1\" class=\"dataframe\">\n",
       "  <thead>\n",
       "    <tr style=\"text-align: right;\">\n",
       "      <th>Models</th>\n",
       "      <th>Decision Tree</th>\n",
       "      <th>Log. Regression</th>\n",
       "      <th>KNN</th>\n",
       "    </tr>\n",
       "  </thead>\n",
       "  <tbody>\n",
       "    <tr>\n",
       "      <th>Accuracy Scores(toxic)</th>\n",
       "      <td>0.607667</td>\n",
       "      <td>0.871000</td>\n",
       "      <td>0.709333</td>\n",
       "    </tr>\n",
       "    <tr>\n",
       "      <th>Accuracy Scores(severe_toxic)</th>\n",
       "      <td>0.801463</td>\n",
       "      <td>0.926855</td>\n",
       "      <td>0.802508</td>\n",
       "    </tr>\n",
       "    <tr>\n",
       "      <th>Accuracy Scores(obscene)</th>\n",
       "      <td>0.733333</td>\n",
       "      <td>0.925667</td>\n",
       "      <td>0.706667</td>\n",
       "    </tr>\n",
       "    <tr>\n",
       "      <th>Accuracy Scores(threat)</th>\n",
       "      <td>0.884240</td>\n",
       "      <td>0.921897</td>\n",
       "      <td>0.846583</td>\n",
       "    </tr>\n",
       "    <tr>\n",
       "      <th>Accuracy Scores(insult)</th>\n",
       "      <td>0.655333</td>\n",
       "      <td>0.903333</td>\n",
       "      <td>0.755000</td>\n",
       "    </tr>\n",
       "    <tr>\n",
       "      <th>Accuracy Scores(identity_hate)</th>\n",
       "      <td>0.873814</td>\n",
       "      <td>0.922676</td>\n",
       "      <td>0.864801</td>\n",
       "    </tr>\n",
       "  </tbody>\n",
       "</table>\n",
       "</div>"
      ],
      "text/plain": [
       "Models                          Decision Tree  Log. Regression       KNN\n",
       "Accuracy Scores(toxic)               0.607667         0.871000  0.709333\n",
       "Accuracy Scores(severe_toxic)        0.801463         0.926855  0.802508\n",
       "Accuracy Scores(obscene)             0.733333         0.925667  0.706667\n",
       "Accuracy Scores(threat)              0.884240         0.921897  0.846583\n",
       "Accuracy Scores(insult)              0.655333         0.903333  0.755000\n",
       "Accuracy Scores(identity_hate)       0.873814         0.922676  0.864801"
      ]
     },
     "execution_count": 96,
     "metadata": {},
     "output_type": "execute_result"
    }
   ],
   "source": [
    "acc_scores_TFIDF"
   ]
  },
  {
   "cell_type": "code",
   "execution_count": 92,
   "metadata": {},
   "outputs": [
    {
     "data": {
      "text/plain": [
       "Text(0.5, 1.0, 'Accuracy Scores of the models - TFIDF vectorizer')"
      ]
     },
     "execution_count": 92,
     "metadata": {},
     "output_type": "execute_result"
    },
    {
     "data": {
      "image/png": "[encoded data removed]",
      "text/plain": [
       "<Figure size 1440x576 with 2 Axes>"
      ]
     },
     "metadata": {
      "needs_background": "light"
     },
     "output_type": "display_data"
    }
   ],
   "source": [
    "fig = plt.figure(figsize=(20, 8))\n",
    "plt.subplot(1, 2, 1)\n",
    "sns.lineplot(data=f1_scores_TFIDF, size=[10,10], markers=True)\n",
    "plt.xticks(rotation='90', fontsize=14)\n",
    "plt.yticks(fontsize=14)\n",
    "plt.legend(loc='best')\n",
    "plt.title('F1 Scores of the models - TFIDF vectorizer', fontsize=20)\n",
    "\n",
    "plt.subplot(1, 2, 2)\n",
    "sns.lineplot(data=acc_scores_TFIDF, size=[10,10], markers=True)\n",
    "plt.xticks(rotation='90', fontsize=14)\n",
    "plt.yticks(fontsize=14)\n",
    "plt.legend(loc='best')\n",
    "plt.title('Accuracy Scores of the models - TFIDF vectorizer', fontsize=20)"
   ]
  },
  {
   "cell_type": "markdown",
   "metadata": {},
   "source": [
    "From the above analysis based on both accuracy score and f1 score, Logistic regression outperforms the other 2 classifiers significantly."
   ]
  },
  {
   "cell_type": "code",
   "execution_count": null,
   "metadata": {},
   "outputs": [],
   "source": []
  }
 ],
 "metadata": {
  "kernelspec": {
   "display_name": "Python 3",
   "language": "python",
   "name": "python3"
  },
  "language_info": {
   "codemirror_mode": {
    "name": "ipython",
    "version": 3
   },
   "file_extension": ".py",
   "mimetype": "text/x-python",
   "name": "python",
   "nbconvert_exporter": "python",
   "pygments_lexer": "ipython3",
   "version": "3.8.2"
  }
 },
 "nbformat": 4,
 "nbformat_minor": 4
}
