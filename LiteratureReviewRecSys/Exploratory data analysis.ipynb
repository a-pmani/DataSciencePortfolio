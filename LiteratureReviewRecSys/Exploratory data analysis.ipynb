{
 "cells": [
  {
   "cell_type": "markdown",
   "id": "510ca39c",
   "metadata": {},
   "source": [
    "# Exploratory data analysis of  the dataset"
   ]
  },
  {
   "cell_type": "code",
   "execution_count": 1,
   "id": "b211de9b",
   "metadata": {},
   "outputs": [],
   "source": [
    "import numpy as np\n",
    "import pandas as pd\n",
    "from math import sqrt\n",
    "import matplotlib.pyplot as plt\n",
    "%matplotlib inline\n",
    "import seaborn as sns"
   ]
  },
  {
   "cell_type": "code",
   "execution_count": 2,
   "id": "3012d994",
   "metadata": {},
   "outputs": [],
   "source": [
    "#reading the dataset\n",
    "df_in = pd.read_excel('sciencepapers_with_userprofiles.xlsx')"
   ]
  },
  {
   "cell_type": "code",
   "execution_count": 3,
   "id": "acdb05d6",
   "metadata": {},
   "outputs": [
    {
     "name": "stdout",
     "output_type": "stream",
     "text": [
      "<class 'pandas.core.frame.DataFrame'>\n",
      "RangeIndex: 2294 entries, 0 to 2293\n",
      "Data columns (total 11 columns):\n",
      " #   Column            Non-Null Count  Dtype         \n",
      "---  ------            --------------  -----         \n",
      " 0   user              2294 non-null   int64         \n",
      " 1   Area of interest  2294 non-null   object        \n",
      " 2   Input             2294 non-null   object        \n",
      " 3   title             2294 non-null   object        \n",
      " 4   Rating            2286 non-null   float64       \n",
      " 5   arxiv_id          2294 non-null   object        \n",
      " 6   paper_Id          2294 non-null   object        \n",
      " 7   created           2294 non-null   datetime64[ns]\n",
      " 8   categories        2292 non-null   object        \n",
      " 9   authors           2294 non-null   object        \n",
      " 10  keywords          2294 non-null   object        \n",
      "dtypes: datetime64[ns](1), float64(1), int64(1), object(8)\n",
      "memory usage: 197.3+ KB\n"
     ]
    }
   ],
   "source": [
    "df_in.info()"
   ]
  },
  {
   "cell_type": "code",
   "execution_count": 4,
   "id": "0adaf838",
   "metadata": {},
   "outputs": [
    {
     "data": {
      "text/html": [
       "<div>\n",
       "<style scoped>\n",
       "    .dataframe tbody tr th:only-of-type {\n",
       "        vertical-align: middle;\n",
       "    }\n",
       "\n",
       "    .dataframe tbody tr th {\n",
       "        vertical-align: top;\n",
       "    }\n",
       "\n",
       "    .dataframe thead th {\n",
       "        text-align: right;\n",
       "    }\n",
       "</style>\n",
       "<table border=\"1\" class=\"dataframe\">\n",
       "  <thead>\n",
       "    <tr style=\"text-align: right;\">\n",
       "      <th></th>\n",
       "      <th>user</th>\n",
       "      <th>Area of interest</th>\n",
       "      <th>Input</th>\n",
       "      <th>title</th>\n",
       "      <th>Rating</th>\n",
       "      <th>arxiv_id</th>\n",
       "      <th>paper_Id</th>\n",
       "      <th>created</th>\n",
       "      <th>categories</th>\n",
       "      <th>authors</th>\n",
       "      <th>keywords</th>\n",
       "    </tr>\n",
       "  </thead>\n",
       "  <tbody>\n",
       "    <tr>\n",
       "      <th>0</th>\n",
       "      <td>1</td>\n",
       "      <td>Warehousing Web Data</td>\n",
       "      <td>Warehousing Web Data</td>\n",
       "      <td>Web data modeling for integration in data ware...</td>\n",
       "      <td>5.0</td>\n",
       "      <td>705.1457</td>\n",
       "      <td>7051457</td>\n",
       "      <td>2007-05-10</td>\n",
       "      <td>cs_DB</td>\n",
       "      <td>Sami Miniaoui,  J√©r√¥me Darmont,  Omar Boussa√Ød</td>\n",
       "      <td>uml conceptual model, complex object represent...</td>\n",
       "    </tr>\n",
       "    <tr>\n",
       "      <th>1</th>\n",
       "      <td>1</td>\n",
       "      <td>Warehousing Web Data</td>\n",
       "      <td>Warehousing Web Data</td>\n",
       "      <td>First-order Complete and Computationally Compl...</td>\n",
       "      <td>1.0</td>\n",
       "      <td>1005.0214</td>\n",
       "      <td>10050214</td>\n",
       "      <td>2007-05-10</td>\n",
       "      <td>cs_DB</td>\n",
       "      <td>Floris Geerts,  Sofie Haesevoets,  Bart Kuijpers</td>\n",
       "      <td>spatio-temporal databases, define spatio-tempo...</td>\n",
       "    </tr>\n",
       "    <tr>\n",
       "      <th>2</th>\n",
       "      <td>1</td>\n",
       "      <td>Warehousing Web Data</td>\n",
       "      <td>Warehousing Web Data</td>\n",
       "      <td>DWEB: A Data Warehouse Engineering Benchmark</td>\n",
       "      <td>3.0</td>\n",
       "      <td>705.1453</td>\n",
       "      <td>7051453</td>\n",
       "      <td>2007-05-10</td>\n",
       "      <td>cs_DB</td>\n",
       "      <td>J√©r√¥me Darmont,  Fadila Bentayeb,  Omar Bous...</td>\n",
       "      <td>decision support query performance, data wareh...</td>\n",
       "    </tr>\n",
       "    <tr>\n",
       "      <th>3</th>\n",
       "      <td>1</td>\n",
       "      <td>Warehousing Web Data</td>\n",
       "      <td>Warehousing Web Data</td>\n",
       "      <td>Warehousing Web Data</td>\n",
       "      <td>2.0</td>\n",
       "      <td>0704.3501</td>\n",
       "      <td>7043501</td>\n",
       "      <td>2007-04-26</td>\n",
       "      <td>cs_DB</td>\n",
       "      <td>J√©r√¥me Darmont,  Omar Boussa√Ød,  Fadila Ben...</td>\n",
       "      <td>multiform input data, so-called multiform, fir...</td>\n",
       "    </tr>\n",
       "    <tr>\n",
       "      <th>4</th>\n",
       "      <td>1</td>\n",
       "      <td>Warehousing Web Data</td>\n",
       "      <td>Warehousing Web Data</td>\n",
       "      <td>An MAS-Based ETL Approach for Complex Data</td>\n",
       "      <td>3.0</td>\n",
       "      <td>809.2686</td>\n",
       "      <td>8092686</td>\n",
       "      <td>2008-09-16</td>\n",
       "      <td>cs_DB</td>\n",
       "      <td>Omar Boussa√Ød,  Fadila Bentayeb,  J√©r√¥me Da...</td>\n",
       "      <td>complex data integration, data integration pro...</td>\n",
       "    </tr>\n",
       "  </tbody>\n",
       "</table>\n",
       "</div>"
      ],
      "text/plain": [
       "   user      Area of interest                 Input  \\\n",
       "0     1  Warehousing Web Data  Warehousing Web Data   \n",
       "1     1  Warehousing Web Data  Warehousing Web Data   \n",
       "2     1  Warehousing Web Data  Warehousing Web Data   \n",
       "3     1  Warehousing Web Data  Warehousing Web Data   \n",
       "4     1  Warehousing Web Data  Warehousing Web Data   \n",
       "\n",
       "                                               title  Rating   arxiv_id  \\\n",
       "0  Web data modeling for integration in data ware...     5.0   705.1457   \n",
       "1  First-order Complete and Computationally Compl...     1.0  1005.0214   \n",
       "2       DWEB: A Data Warehouse Engineering Benchmark     3.0   705.1453   \n",
       "3                               Warehousing Web Data     2.0  0704.3501   \n",
       "4         An MAS-Based ETL Approach for Complex Data     3.0   809.2686   \n",
       "\n",
       "   paper_Id    created categories  \\\n",
       "0   7051457 2007-05-10      cs_DB   \n",
       "1  10050214 2007-05-10      cs_DB   \n",
       "2   7051453 2007-05-10      cs_DB   \n",
       "3   7043501 2007-04-26      cs_DB   \n",
       "4   8092686 2008-09-16      cs_DB   \n",
       "\n",
       "                                             authors  \\\n",
       "0  Sami Miniaoui,  J√©r√¥me Darmont,  Omar Boussa√Ød   \n",
       "1   Floris Geerts,  Sofie Haesevoets,  Bart Kuijpers   \n",
       "2  J√©r√¥me Darmont,  Fadila Bentayeb,  Omar Bous...   \n",
       "3  J√©r√¥me Darmont,  Omar Boussa√Ød,  Fadila Ben...   \n",
       "4  Omar Boussa√Ød,  Fadila Bentayeb,  J√©r√¥me Da...   \n",
       "\n",
       "                                            keywords  \n",
       "0  uml conceptual model, complex object represent...  \n",
       "1  spatio-temporal databases, define spatio-tempo...  \n",
       "2  decision support query performance, data wareh...  \n",
       "3  multiform input data, so-called multiform, fir...  \n",
       "4  complex data integration, data integration pro...  "
      ]
     },
     "execution_count": 4,
     "metadata": {},
     "output_type": "execute_result"
    }
   ],
   "source": [
    "df_in.head()"
   ]
  },
  {
   "cell_type": "markdown",
   "id": "0b942e68",
   "metadata": {},
   "source": [
    "# Exploratory data analysis of the ratings column\n",
    "It is important that we understand the data to be able to apply the right algorithms and analysis to it"
   ]
  },
  {
   "cell_type": "code",
   "execution_count": 5,
   "id": "4f85121f",
   "metadata": {},
   "outputs": [],
   "source": [
    "cols_of_interest = ['user','paper_Id','Rating']\n",
    "ratings = df_in[cols_of_interest]"
   ]
  },
  {
   "cell_type": "code",
   "execution_count": 6,
   "id": "d209ea06",
   "metadata": {},
   "outputs": [
    {
     "data": {
      "text/html": [
       "<div>\n",
       "<style scoped>\n",
       "    .dataframe tbody tr th:only-of-type {\n",
       "        vertical-align: middle;\n",
       "    }\n",
       "\n",
       "    .dataframe tbody tr th {\n",
       "        vertical-align: top;\n",
       "    }\n",
       "\n",
       "    .dataframe thead th {\n",
       "        text-align: right;\n",
       "    }\n",
       "</style>\n",
       "<table border=\"1\" class=\"dataframe\">\n",
       "  <thead>\n",
       "    <tr style=\"text-align: right;\">\n",
       "      <th></th>\n",
       "      <th>user</th>\n",
       "      <th>paper_Id</th>\n",
       "      <th>Rating</th>\n",
       "    </tr>\n",
       "  </thead>\n",
       "  <tbody>\n",
       "    <tr>\n",
       "      <th>0</th>\n",
       "      <td>1</td>\n",
       "      <td>7051457</td>\n",
       "      <td>5.0</td>\n",
       "    </tr>\n",
       "    <tr>\n",
       "      <th>1</th>\n",
       "      <td>1</td>\n",
       "      <td>10050214</td>\n",
       "      <td>1.0</td>\n",
       "    </tr>\n",
       "    <tr>\n",
       "      <th>2</th>\n",
       "      <td>1</td>\n",
       "      <td>7051453</td>\n",
       "      <td>3.0</td>\n",
       "    </tr>\n",
       "    <tr>\n",
       "      <th>3</th>\n",
       "      <td>1</td>\n",
       "      <td>7043501</td>\n",
       "      <td>2.0</td>\n",
       "    </tr>\n",
       "    <tr>\n",
       "      <th>4</th>\n",
       "      <td>1</td>\n",
       "      <td>8092686</td>\n",
       "      <td>3.0</td>\n",
       "    </tr>\n",
       "  </tbody>\n",
       "</table>\n",
       "</div>"
      ],
      "text/plain": [
       "   user  paper_Id  Rating\n",
       "0     1   7051457     5.0\n",
       "1     1  10050214     1.0\n",
       "2     1   7051453     3.0\n",
       "3     1   7043501     2.0\n",
       "4     1   8092686     3.0"
      ]
     },
     "execution_count": 6,
     "metadata": {},
     "output_type": "execute_result"
    }
   ],
   "source": [
    "ratings.head()"
   ]
  },
  {
   "cell_type": "markdown",
   "id": "7776c0f9",
   "metadata": {},
   "source": [
    "# Sparsity\n",
    "Data sparsity is a measure of how empty the data is. A high sparsity can sometimes be a problem when we want to apply certain machine learning algorithms. However, some algorithms can still handle a high sparsity. Understanding the sparsity percentage can help us anticipate what kind of algorithms we can apply.\n",
    "\n",
    "for our understanding\n",
    "\n",
    "reference source: https://www.mygreatlearning.com/blog/understanding-sparse-matrix/"
   ]
  },
  {
   "cell_type": "code",
   "execution_count": 8,
   "id": "0ad6f37f",
   "metadata": {},
   "outputs": [],
   "source": [
    "n_uniq_users = ratings['user'].nunique()\n",
    "n_uniq_papers = ratings['paper_Id'].nunique()"
   ]
  },
  {
   "cell_type": "code",
   "execution_count": 9,
   "id": "d93f24d3",
   "metadata": {},
   "outputs": [
    {
     "name": "stdout",
     "output_type": "stream",
     "text": [
      "number of unique users in the dataset : 222\n",
      "number of unique papers in the dataset : 597\n"
     ]
    }
   ],
   "source": [
    "print('number of unique users in the dataset :',n_uniq_users)\n",
    "print('number of unique papers in the dataset :',n_uniq_papers)"
   ]
  },
  {
   "cell_type": "code",
   "execution_count": 10,
   "id": "cffbdaa4",
   "metadata": {},
   "outputs": [],
   "source": [
    "sparsity = round((1.0 - len(ratings)/float(n_uniq_users*n_uniq_papers))*100, 4)"
   ]
  },
  {
   "cell_type": "code",
   "execution_count": 11,
   "id": "9eeb5aa7",
   "metadata": {},
   "outputs": [
    {
     "name": "stdout",
     "output_type": "stream",
     "text": [
      "sparsity =  98.2691\n"
     ]
    }
   ],
   "source": [
    "print('sparsity = ',sparsity)"
   ]
  },
  {
   "cell_type": "markdown",
   "id": "30df8454",
   "metadata": {},
   "source": [
    "We have a very high sparsity owing to the limited number of use profiles at the moment. "
   ]
  },
  {
   "cell_type": "markdown",
   "id": "29063cda",
   "metadata": {},
   "source": [
    "# Exploring the distribution of ratings column in the dataset.\n"
   ]
  },
  {
   "cell_type": "markdown",
   "id": "108fbf34",
   "metadata": {},
   "source": [
    "In this section we will see the nature of the ratings column. We will explore how the ratings are on user basis, summary statisics of the rating and also how users rate the papers and if there is a pattern in the way users rate."
   ]
  },
  {
   "cell_type": "code",
   "execution_count": 18,
   "id": "57d20569",
   "metadata": {},
   "outputs": [],
   "source": [
    "paperId_rating = pd.DataFrame(ratings.groupby('paper_Id')['Rating'].mean())"
   ]
  },
  {
   "cell_type": "code",
   "execution_count": 19,
   "id": "129b0768",
   "metadata": {},
   "outputs": [
    {
     "data": {
      "text/html": [
       "<div>\n",
       "<style scoped>\n",
       "    .dataframe tbody tr th:only-of-type {\n",
       "        vertical-align: middle;\n",
       "    }\n",
       "\n",
       "    .dataframe tbody tr th {\n",
       "        vertical-align: top;\n",
       "    }\n",
       "\n",
       "    .dataframe thead th {\n",
       "        text-align: right;\n",
       "    }\n",
       "</style>\n",
       "<table border=\"1\" class=\"dataframe\">\n",
       "  <thead>\n",
       "    <tr style=\"text-align: right;\">\n",
       "      <th></th>\n",
       "      <th>Rating</th>\n",
       "    </tr>\n",
       "    <tr>\n",
       "      <th>paper_Id</th>\n",
       "      <th></th>\n",
       "    </tr>\n",
       "  </thead>\n",
       "  <tbody>\n",
       "    <tr>\n",
       "      <th>4010</th>\n",
       "      <td>4.0</td>\n",
       "    </tr>\n",
       "    <tr>\n",
       "      <th>5003</th>\n",
       "      <td>3.0</td>\n",
       "    </tr>\n",
       "    <tr>\n",
       "      <th>11024</th>\n",
       "      <td>4.0</td>\n",
       "    </tr>\n",
       "    <tr>\n",
       "      <th>11041</th>\n",
       "      <td>2.0</td>\n",
       "    </tr>\n",
       "    <tr>\n",
       "      <th>91136</th>\n",
       "      <td>2.0</td>\n",
       "    </tr>\n",
       "  </tbody>\n",
       "</table>\n",
       "</div>"
      ],
      "text/plain": [
       "          Rating\n",
       "paper_Id        \n",
       "4010         4.0\n",
       "5003         3.0\n",
       "11024        4.0\n",
       "11041        2.0\n",
       "91136        2.0"
      ]
     },
     "execution_count": 19,
     "metadata": {},
     "output_type": "execute_result"
    }
   ],
   "source": [
    "paperId_rating.head()"
   ]
  },
  {
   "cell_type": "code",
   "execution_count": 20,
   "id": "42a6dd49",
   "metadata": {},
   "outputs": [],
   "source": [
    "paperId_rating['grpby_ratings'] = ratings.groupby('paper_Id')['Rating'].count()"
   ]
  },
  {
   "cell_type": "code",
   "execution_count": 21,
   "id": "666e5a22",
   "metadata": {},
   "outputs": [
    {
     "data": {
      "text/html": [
       "<div>\n",
       "<style scoped>\n",
       "    .dataframe tbody tr th:only-of-type {\n",
       "        vertical-align: middle;\n",
       "    }\n",
       "\n",
       "    .dataframe tbody tr th {\n",
       "        vertical-align: top;\n",
       "    }\n",
       "\n",
       "    .dataframe thead th {\n",
       "        text-align: right;\n",
       "    }\n",
       "</style>\n",
       "<table border=\"1\" class=\"dataframe\">\n",
       "  <thead>\n",
       "    <tr style=\"text-align: right;\">\n",
       "      <th></th>\n",
       "      <th>Rating</th>\n",
       "      <th>grpby_ratings</th>\n",
       "    </tr>\n",
       "    <tr>\n",
       "      <th>paper_Id</th>\n",
       "      <th></th>\n",
       "      <th></th>\n",
       "    </tr>\n",
       "  </thead>\n",
       "  <tbody>\n",
       "    <tr>\n",
       "      <th>4010</th>\n",
       "      <td>4.0</td>\n",
       "      <td>2</td>\n",
       "    </tr>\n",
       "    <tr>\n",
       "      <th>5003</th>\n",
       "      <td>3.0</td>\n",
       "      <td>4</td>\n",
       "    </tr>\n",
       "    <tr>\n",
       "      <th>11024</th>\n",
       "      <td>4.0</td>\n",
       "      <td>2</td>\n",
       "    </tr>\n",
       "    <tr>\n",
       "      <th>11041</th>\n",
       "      <td>2.0</td>\n",
       "      <td>2</td>\n",
       "    </tr>\n",
       "    <tr>\n",
       "      <th>91136</th>\n",
       "      <td>2.0</td>\n",
       "      <td>2</td>\n",
       "    </tr>\n",
       "  </tbody>\n",
       "</table>\n",
       "</div>"
      ],
      "text/plain": [
       "          Rating  grpby_ratings\n",
       "paper_Id                       \n",
       "4010         4.0              2\n",
       "5003         3.0              4\n",
       "11024        4.0              2\n",
       "11041        2.0              2\n",
       "91136        2.0              2"
      ]
     },
     "execution_count": 21,
     "metadata": {},
     "output_type": "execute_result"
    }
   ],
   "source": [
    "paperId_rating.head()"
   ]
  },
  {
   "cell_type": "markdown",
   "id": "853acc0c",
   "metadata": {},
   "source": [
    "# Rating frequency"
   ]
  },
  {
   "cell_type": "code",
   "execution_count": 22,
   "id": "6cdfff9f",
   "metadata": {},
   "outputs": [
    {
     "data": {
      "text/plain": [
       "count    597.000000\n",
       "mean       3.829146\n",
       "std        3.032977\n",
       "min        0.000000\n",
       "25%        2.000000\n",
       "50%        2.000000\n",
       "75%        4.000000\n",
       "max       28.000000\n",
       "Name: grpby_ratings, dtype: float64"
      ]
     },
     "execution_count": 22,
     "metadata": {},
     "output_type": "execute_result"
    }
   ],
   "source": [
    "paperId_rating['grpby_ratings'].describe()"
   ]
  },
  {
   "cell_type": "code",
   "execution_count": 23,
   "id": "70b23d53",
   "metadata": {},
   "outputs": [
    {
     "data": {
      "text/plain": [
       "<AxesSubplot:>"
      ]
     },
     "execution_count": 23,
     "metadata": {},
     "output_type": "execute_result"
    },
    {
     "data": {
      "image/png": "[encoded data removed]",
      "text/plain": [
       "<Figure size 1080x288 with 1 Axes>"
      ]
     },
     "metadata": {
      "needs_background": "light"
     },
     "output_type": "display_data"
    }
   ],
   "source": [
    "plt.figure(figsize=(15,4))\n",
    "paperId_rating['grpby_ratings'].hist(bins=70)"
   ]
  },
  {
   "cell_type": "code",
   "execution_count": 25,
   "id": "d3347293",
   "metadata": {},
   "outputs": [
    {
     "data": {
      "text/plain": [
       "<AxesSubplot:>"
      ]
     },
     "execution_count": 25,
     "metadata": {},
     "output_type": "execute_result"
    },
    {
     "data": {
      "image/png": "[encoded data removed]",
      "text/plain": [
       "<Figure size 1080x288 with 1 Axes>"
      ]
     },
     "metadata": {
      "needs_background": "light"
     },
     "output_type": "display_data"
    }
   ],
   "source": [
    "plt.figure(figsize=(15,4))\n",
    "paperId_rating[paperId_rating['grpby_ratings'] < 5]['grpby_ratings'].hist(bins=100)"
   ]
  },
  {
   "cell_type": "code",
   "execution_count": 26,
   "id": "721be2d9",
   "metadata": {},
   "outputs": [
    {
     "data": {
      "text/plain": [
       "475"
      ]
     },
     "execution_count": 26,
     "metadata": {},
     "output_type": "execute_result"
    }
   ],
   "source": [
    "#how many papers have less than 5 ratings?\n",
    "(paperId_rating['grpby_ratings'] < 5).sum()"
   ]
  },
  {
   "cell_type": "code",
   "execution_count": 27,
   "id": "e9091b67",
   "metadata": {},
   "outputs": [
    {
     "data": {
      "text/plain": [
       "<AxesSubplot:>"
      ]
     },
     "execution_count": 27,
     "metadata": {},
     "output_type": "execute_result"
    },
    {
     "data": {
      "image/png": "[encoded data removed]",
      "text/plain": [
       "<Figure size 1080x288 with 1 Axes>"
      ]
     },
     "metadata": {
      "needs_background": "light"
     },
     "output_type": "display_data"
    }
   ],
   "source": [
    "plt.figure(figsize=(15,4))\n",
    "paperId_rating['Rating'].hist(bins=5)"
   ]
  },
  {
   "cell_type": "markdown",
   "id": "1551ae4c",
   "metadata": {},
   "source": [
    "# Interaction between ratings and rating frequency\n",
    "\n",
    "how rating frequencies are distributed for each rating?\n"
   ]
  },
  {
   "cell_type": "code",
   "execution_count": 28,
   "id": "6cb39a91",
   "metadata": {},
   "outputs": [
    {
     "name": "stderr",
     "output_type": "stream",
     "text": [
      "/Users/ushapraveen/opt/anaconda3/lib/python3.8/site-packages/seaborn/axisgrid.py:2073: UserWarning: The `size` parameter has been renamed to `height`; please update your code.\n",
      "  warnings.warn(msg, UserWarning)\n"
     ]
    },
    {
     "data": {
      "text/plain": [
       "<seaborn.axisgrid.JointGrid at 0x7ff009d44a30>"
      ]
     },
     "execution_count": 28,
     "metadata": {},
     "output_type": "execute_result"
    },
    {
     "data": {
      "image/png": "[encoded data removed]",
      "text/plain": [
       "<Figure size 720x720 with 3 Axes>"
      ]
     },
     "metadata": {
      "needs_background": "light"
     },
     "output_type": "display_data"
    }
   ],
   "source": [
    "sns.jointplot(x='Rating',y='grpby_ratings',data=paperId_rating,alpha=0.25, size=10)"
   ]
  },
  {
   "cell_type": "markdown",
   "id": "7c7ea907",
   "metadata": {},
   "source": [
    "# Summarize by user"
   ]
  },
  {
   "cell_type": "code",
   "execution_count": 30,
   "id": "63bbe979",
   "metadata": {},
   "outputs": [],
   "source": [
    "user_rating = pd.DataFrame(ratings.groupby('user')['Rating'].count())"
   ]
  },
  {
   "cell_type": "code",
   "execution_count": 31,
   "id": "bec57d4d",
   "metadata": {},
   "outputs": [],
   "source": [
    "user_rating.columns = ['rating_frequency']"
   ]
  },
  {
   "cell_type": "code",
   "execution_count": 32,
   "id": "45627898",
   "metadata": {},
   "outputs": [],
   "source": [
    "user_rating['rating_mean'] = ratings.groupby('user')['Rating'].mean()"
   ]
  },
  {
   "cell_type": "code",
   "execution_count": 33,
   "id": "6a3b289a",
   "metadata": {},
   "outputs": [
    {
     "data": {
      "text/html": [
       "<div>\n",
       "<style scoped>\n",
       "    .dataframe tbody tr th:only-of-type {\n",
       "        vertical-align: middle;\n",
       "    }\n",
       "\n",
       "    .dataframe tbody tr th {\n",
       "        vertical-align: top;\n",
       "    }\n",
       "\n",
       "    .dataframe thead th {\n",
       "        text-align: right;\n",
       "    }\n",
       "</style>\n",
       "<table border=\"1\" class=\"dataframe\">\n",
       "  <thead>\n",
       "    <tr style=\"text-align: right;\">\n",
       "      <th></th>\n",
       "      <th>rating_frequency</th>\n",
       "      <th>rating_mean</th>\n",
       "    </tr>\n",
       "    <tr>\n",
       "      <th>user</th>\n",
       "      <th></th>\n",
       "      <th></th>\n",
       "    </tr>\n",
       "  </thead>\n",
       "  <tbody>\n",
       "    <tr>\n",
       "      <th>1</th>\n",
       "      <td>20</td>\n",
       "      <td>3.1</td>\n",
       "    </tr>\n",
       "    <tr>\n",
       "      <th>2</th>\n",
       "      <td>10</td>\n",
       "      <td>3.2</td>\n",
       "    </tr>\n",
       "    <tr>\n",
       "      <th>3</th>\n",
       "      <td>10</td>\n",
       "      <td>3.2</td>\n",
       "    </tr>\n",
       "    <tr>\n",
       "      <th>4</th>\n",
       "      <td>10</td>\n",
       "      <td>3.6</td>\n",
       "    </tr>\n",
       "    <tr>\n",
       "      <th>5</th>\n",
       "      <td>10</td>\n",
       "      <td>4.6</td>\n",
       "    </tr>\n",
       "  </tbody>\n",
       "</table>\n",
       "</div>"
      ],
      "text/plain": [
       "      rating_frequency  rating_mean\n",
       "user                               \n",
       "1                   20          3.1\n",
       "2                   10          3.2\n",
       "3                   10          3.2\n",
       "4                   10          3.6\n",
       "5                   10          4.6"
      ]
     },
     "execution_count": 33,
     "metadata": {},
     "output_type": "execute_result"
    }
   ],
   "source": [
    "user_rating.head()"
   ]
  },
  {
   "cell_type": "code",
   "execution_count": 34,
   "id": "2f0de70d",
   "metadata": {},
   "outputs": [
    {
     "data": {
      "text/html": [
       "<div>\n",
       "<style scoped>\n",
       "    .dataframe tbody tr th:only-of-type {\n",
       "        vertical-align: middle;\n",
       "    }\n",
       "\n",
       "    .dataframe tbody tr th {\n",
       "        vertical-align: top;\n",
       "    }\n",
       "\n",
       "    .dataframe thead th {\n",
       "        text-align: right;\n",
       "    }\n",
       "</style>\n",
       "<table border=\"1\" class=\"dataframe\">\n",
       "  <thead>\n",
       "    <tr style=\"text-align: right;\">\n",
       "      <th></th>\n",
       "      <th>rating_frequency</th>\n",
       "      <th>rating_mean</th>\n",
       "    </tr>\n",
       "  </thead>\n",
       "  <tbody>\n",
       "    <tr>\n",
       "      <th>count</th>\n",
       "      <td>222.000000</td>\n",
       "      <td>222.000000</td>\n",
       "    </tr>\n",
       "    <tr>\n",
       "      <th>mean</th>\n",
       "      <td>10.297297</td>\n",
       "      <td>3.087867</td>\n",
       "    </tr>\n",
       "    <tr>\n",
       "      <th>std</th>\n",
       "      <td>2.650346</td>\n",
       "      <td>0.677382</td>\n",
       "    </tr>\n",
       "    <tr>\n",
       "      <th>min</th>\n",
       "      <td>3.000000</td>\n",
       "      <td>1.800000</td>\n",
       "    </tr>\n",
       "    <tr>\n",
       "      <th>25%</th>\n",
       "      <td>10.000000</td>\n",
       "      <td>2.587500</td>\n",
       "    </tr>\n",
       "    <tr>\n",
       "      <th>50%</th>\n",
       "      <td>10.000000</td>\n",
       "      <td>3.075000</td>\n",
       "    </tr>\n",
       "    <tr>\n",
       "      <th>75%</th>\n",
       "      <td>10.000000</td>\n",
       "      <td>3.600000</td>\n",
       "    </tr>\n",
       "    <tr>\n",
       "      <th>max</th>\n",
       "      <td>28.000000</td>\n",
       "      <td>4.600000</td>\n",
       "    </tr>\n",
       "  </tbody>\n",
       "</table>\n",
       "</div>"
      ],
      "text/plain": [
       "       rating_frequency  rating_mean\n",
       "count        222.000000   222.000000\n",
       "mean          10.297297     3.087867\n",
       "std            2.650346     0.677382\n",
       "min            3.000000     1.800000\n",
       "25%           10.000000     2.587500\n",
       "50%           10.000000     3.075000\n",
       "75%           10.000000     3.600000\n",
       "max           28.000000     4.600000"
      ]
     },
     "execution_count": 34,
     "metadata": {},
     "output_type": "execute_result"
    }
   ],
   "source": [
    "user_rating.describe()"
   ]
  },
  {
   "cell_type": "code",
   "execution_count": 35,
   "id": "f9110daf",
   "metadata": {},
   "outputs": [
    {
     "data": {
      "text/plain": [
       "<AxesSubplot:>"
      ]
     },
     "execution_count": 35,
     "metadata": {},
     "output_type": "execute_result"
    },
    {
     "data": {
      "image/png": "[encoded data removed]",
      "text/plain": [
       "<Figure size 1080x288 with 1 Axes>"
      ]
     },
     "metadata": {
      "needs_background": "light"
     },
     "output_type": "display_data"
    }
   ],
   "source": [
    "plt.figure(figsize=(15,4))\n",
    "user_rating['rating_frequency'].hist(bins=10)"
   ]
  },
  {
   "cell_type": "markdown",
   "id": "28736059",
   "metadata": {},
   "source": [
    "# Rating distribution"
   ]
  },
  {
   "cell_type": "code",
   "execution_count": 36,
   "id": "1dac96cf",
   "metadata": {},
   "outputs": [
    {
     "data": {
      "text/plain": [
       "<AxesSubplot:>"
      ]
     },
     "execution_count": 36,
     "metadata": {},
     "output_type": "execute_result"
    },
    {
     "data": {
      "image/png": "[encoded data removed]",
      "text/plain": [
       "<Figure size 1080x288 with 1 Axes>"
      ]
     },
     "metadata": {
      "needs_background": "light"
     },
     "output_type": "display_data"
    }
   ],
   "source": [
    "plt.figure(figsize=(15,4))\n",
    "user_rating['rating_mean'].hist(bins=10)"
   ]
  },
  {
   "cell_type": "code",
   "execution_count": 38,
   "id": "4be8fec9",
   "metadata": {},
   "outputs": [
    {
     "name": "stderr",
     "output_type": "stream",
     "text": [
      "/Users/ushapraveen/opt/anaconda3/lib/python3.8/site-packages/seaborn/axisgrid.py:2073: UserWarning: The `size` parameter has been renamed to `height`; please update your code.\n",
      "  warnings.warn(msg, UserWarning)\n"
     ]
    },
    {
     "data": {
      "text/plain": [
       "<seaborn.axisgrid.JointGrid at 0x7ff00b2136a0>"
      ]
     },
     "execution_count": 38,
     "metadata": {},
     "output_type": "execute_result"
    },
    {
     "data": {
      "image/png": "[encoded data removed]",
      "text/plain": [
       "<Figure size 720x720 with 3 Axes>"
      ]
     },
     "metadata": {
      "needs_background": "light"
     },
     "output_type": "display_data"
    }
   ],
   "source": [
    "#Interaction between ratings and rating frequency\n",
    "sns.jointplot(x='rating_mean',y='rating_frequency',data=user_rating,alpha=0.25, size=10)"
   ]
  },
  {
   "cell_type": "code",
   "execution_count": null,
   "id": "b19837ef",
   "metadata": {},
   "outputs": [],
   "source": []
  },
  {
   "cell_type": "code",
   "execution_count": null,
   "id": "10308902",
   "metadata": {},
   "outputs": [],
   "source": []
  }
 ],
 "metadata": {
  "kernelspec": {
   "display_name": "Python 3",
   "language": "python",
   "name": "python3"
  },
  "language_info": {
   "codemirror_mode": {
    "name": "ipython",
    "version": 3
   },
   "file_extension": ".py",
   "mimetype": "text/x-python",
   "name": "python",
   "nbconvert_exporter": "python",
   "pygments_lexer": "ipython3",
   "version": "3.8.8"
  }
 },
 "nbformat": 4,
 "nbformat_minor": 5
}
