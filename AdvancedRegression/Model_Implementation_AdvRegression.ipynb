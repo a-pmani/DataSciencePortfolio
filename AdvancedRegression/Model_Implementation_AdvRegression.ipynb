{
 "cells": [
  {
   "cell_type": "markdown",
   "id": "696a9cf1",
   "metadata": {},
   "source": [
    "The purpose of this notebook is to implement different advanced regression models and to select the most suitable model for the dataset based on Mean Squared Error and R-squared score."
   ]
  },
  {
   "cell_type": "code",
   "execution_count": 82,
   "id": "4ff30490",
   "metadata": {},
   "outputs": [],
   "source": [
    "import pandas as pd\n",
    "import numpy as np\n",
    "\n",
    "%matplotlib inline \n",
    "import warnings\n",
    "warnings.filterwarnings('ignore')\n",
    "\n",
    "import seaborn as sns\n",
    "from sklearn.model_selection import train_test_split\n",
    "from sklearn.preprocessing import MinMaxScaler\n",
    "from sklearn.preprocessing import StandardScaler\n",
    "\n",
    "from sklearn.model_selection import train_test_split\n",
    "\n",
    "from sklearn.metrics import mean_absolute_error \n",
    "from sklearn.metrics import mean_squared_error \n",
    "from sklearn.metrics import r2_score\n",
    "import itertools\n",
    "\n",
    "##models\n",
    "##baseline model - LinearRegression\n",
    "from sklearn.linear_model import LinearRegression\n",
    "from sklearn.linear_model import Ridge\n",
    "from sklearn.linear_model import Lasso\n",
    "from sklearn.linear_model import LassoCV\n",
    "from sklearn.ensemble import GradientBoostingRegressor\n",
    "import xgboost as xgb\n",
    "from sklearn.svm import SVR\n",
    "from sklearn.linear_model import ElasticNet\n",
    "\n",
    "from sklearn.metrics import mean_squared_error, r2_score\n",
    "import matplotlib.pyplot as plt\n",
    "\n",
    "from sklearn.model_selection import train_test_split, GridSearchCV\n",
    "from sklearn.metrics import mean_squared_error\n"
   ]
  },
  {
   "cell_type": "code",
   "execution_count": 77,
   "id": "6cd524b5",
   "metadata": {},
   "outputs": [],
   "source": [
    "##import train and test datasets\n",
    "df = pd.read_csv('train.csv')\n",
    "df_test = pd.read_csv('test.csv')\n",
    "#df_test.info()"
   ]
  },
  {
   "cell_type": "code",
   "execution_count": 35,
   "id": "8953acf4",
   "metadata": {
    "scrolled": true
   },
   "outputs": [
    {
     "name": "stdout",
     "output_type": "stream",
     "text": [
      "<class 'pandas.core.frame.DataFrame'>\n",
      "RangeIndex: 1460 entries, 0 to 1459\n",
      "Data columns (total 42 columns):\n",
      " #   Column                Non-Null Count  Dtype\n",
      "---  ------                --------------  -----\n",
      " 0   OverallQual           1460 non-null   int64\n",
      " 1   YearBuilt             1460 non-null   int64\n",
      " 2   YearRemodAdd          1460 non-null   int64\n",
      " 3   BsmtFinSF1            1460 non-null   int64\n",
      " 4   TotalBsmtSF           1460 non-null   int64\n",
      " 5   1stFlrSF              1460 non-null   int64\n",
      " 6   2ndFlrSF              1460 non-null   int64\n",
      " 7   GrLivArea             1460 non-null   int64\n",
      " 8   BsmtFullBath          1460 non-null   int64\n",
      " 9   FullBath              1460 non-null   int64\n",
      " 10  HalfBath              1460 non-null   int64\n",
      " 11  BedroomAbvGr          1460 non-null   int64\n",
      " 12  TotRmsAbvGrd          1460 non-null   int64\n",
      " 13  GarageCars            1460 non-null   int64\n",
      " 14  GarageArea            1460 non-null   int64\n",
      " 15  YrSold                1460 non-null   int64\n",
      " 16  ExterQual_TA          1460 non-null   bool \n",
      " 17  ExterQual_TA.1        1460 non-null   bool \n",
      " 18  ExterQual_TA.2        1460 non-null   bool \n",
      " 19  ExterQual_TA.3        1460 non-null   bool \n",
      " 20  BsmtQual_Ex           1460 non-null   bool \n",
      " 21  KitchenQual_Ex        1460 non-null   bool \n",
      " 22  Neighborhood_NoRidge  1460 non-null   bool \n",
      " 23  GarageType_Attchd     1460 non-null   bool \n",
      " 24  BsmtExposure_Gd       1460 non-null   bool \n",
      " 25  KitchenQual_Gd        1460 non-null   bool \n",
      " 26  ExterQual_Gd          1460 non-null   bool \n",
      " 27  ExterQual_Gd.1        1460 non-null   bool \n",
      " 28  ExterQual_Gd.2        1460 non-null   bool \n",
      " 29  ExterQual_Gd.3        1460 non-null   bool \n",
      " 30  ExterQual_Fa          1460 non-null   bool \n",
      " 31  ExterQual_Fa.1        1460 non-null   bool \n",
      " 32  ExterQual_Fa.2        1460 non-null   bool \n",
      " 33  ExterQual_Fa.3        1460 non-null   bool \n",
      " 34  BldgType_1Fam         1460 non-null   bool \n",
      " 35  Neighborhood_NridgHt  1460 non-null   bool \n",
      " 36  BsmtQual_Gd           1460 non-null   bool \n",
      " 37  ExterQual_Ex          1460 non-null   bool \n",
      " 38  ExterQual_Ex.1        1460 non-null   bool \n",
      " 39  ExterQual_Ex.2        1460 non-null   bool \n",
      " 40  ExterQual_Ex.3        1460 non-null   bool \n",
      " 41  BsmtExposure_No       1460 non-null   bool \n",
      "dtypes: bool(26), int64(16)\n",
      "memory usage: 219.7 KB\n"
     ]
    }
   ],
   "source": [
    "## df_final is the preprocessed dataset for training models\n",
    "df_train = pd.read_csv('df_final.csv')\n",
    "df_train.info()"
   ]
  },
  {
   "cell_type": "code",
   "execution_count": 37,
   "id": "e0525464",
   "metadata": {},
   "outputs": [],
   "source": [
    "#Inputs to the model\n",
    "X = df_train\n",
    "y = df['SalePrice']\n",
    "alpha = 1"
   ]
  },
  {
   "cell_type": "code",
   "execution_count": 38,
   "id": "5391bf83",
   "metadata": {},
   "outputs": [],
   "source": [
    "# Split the data into training and testing sets\n",
    "X_train, X_test, y_train, y_test = train_test_split(X, y, test_size=0.2, random_state=42)"
   ]
  },
  {
   "cell_type": "code",
   "execution_count": 97,
   "id": "845fed28",
   "metadata": {},
   "outputs": [],
   "source": [
    "# List of regression models to evaluate\n",
    "models = [\n",
    "    ('Linear Regression baseline', LinearRegression()),\n",
    "    ('Ridge Regression', Ridge(alpha=1)),\n",
    "    ('Lasso Regression', Lasso(alpha=1)),\n",
    "    ('LassoCV Regression',LassoCV(alphas=[18000,30000],cv=7))\n",
    "]\n",
    "\n",
    "results = pd.DataFrame(columns=['Model', 'MSE', 'R-squared'])"
   ]
  },
  {
   "cell_type": "code",
   "execution_count": 98,
   "id": "65463c83",
   "metadata": {},
   "outputs": [
    {
     "name": "stdout",
     "output_type": "stream",
     "text": [
      "LinearRegression()\n",
      "Ridge(alpha=1)\n",
      "Lasso(alpha=1)\n",
      "LassoCV(alphas=[18000, 30000], cv=7)\n",
      "                        Model           MSE  R-squared\n",
      "0  Linear Regression baseline  1.022375e+09     0.8667\n",
      "1            Ridge Regression  1.023143e+09     0.8666\n",
      "2            Lasso Regression  1.022467e+09     0.8667\n",
      "3          LassoCV Regression  1.741270e+09     0.7730\n"
     ]
    }
   ],
   "source": [
    "##train and predict using the models\n",
    "results_list = []\n",
    "for model_name, model in models:\n",
    "    print(model)\n",
    "    model.fit(X_train, y_train)\n",
    "    predictions = model.predict(X_test)\n",
    "\n",
    "    # Calculate MSE and R-squared\n",
    "    mse = mean_squared_error(y_test, predictions)\n",
    "    r_squared = round(r2_score(y_test, predictions),4)\n",
    "    results_list.append({'Model': model_name, 'MSE': mse, 'R-squared': r_squared})\n",
    "    \n",
    "results = pd.DataFrame(results_list)\n",
    "print(results)"
   ]
  },
  {
   "cell_type": "markdown",
   "id": "54550aba",
   "metadata": {},
   "source": [
    "# Gradient Boost with hyperparameter tuning using GridSearchCV"
   ]
  },
  {
   "cell_type": "code",
   "execution_count": 110,
   "id": "57a0bbee",
   "metadata": {},
   "outputs": [
    {
     "name": "stdout",
     "output_type": "stream",
     "text": [
      "Mean Squared Error: 1741270365.5204375\n",
      "R-squared: 0.155\n"
     ]
    }
   ],
   "source": [
    "#Gradient Boosting regressor\n",
    "regressor = GradientBoostingRegressor(n_estimators=100, learning_rate=0.1, max_depth=3, random_state=42)\n",
    "\n",
    "# Train the model\n",
    "regressor.fit(X_train, y_train)\n",
    "\n",
    "# Make predictions on the test set\n",
    "y_pred_gb = regressor.predict(X_test)\n",
    "\n",
    "# Evaluate the model\n",
    "gb_mse = mean_squared_error(y_test, y_pred)\n",
    "print(f'Mean Squared Error: {mse}')\n",
    "\n",
    "gb_r2 = round(r2_score(y_test, y_pred_gb),4)\n",
    "print(\"R-squared:\", r2)\n",
    "\n",
    "results_list.append({'Model': 'GradientBoosting Regressor', 'MSE': gb_mse, 'R-squared': gb_r2})"
   ]
  },
  {
   "cell_type": "code",
   "execution_count": 101,
   "id": "efffbde0",
   "metadata": {},
   "outputs": [
    {
     "name": "stdout",
     "output_type": "stream",
     "text": [
      "Best Gradient Boosting Regressor:\n",
      "GradientBoostingRegressor(max_depth=4, random_state=42)\n",
      "\n",
      "Mean Squared Error (MSE): 805050764.3982036\n",
      "R-squared: 0.895\n"
     ]
    }
   ],
   "source": [
    "##fine-tuning gradient booster using GridSearchCV\n",
    "gb_reg = GradientBoostingRegressor(random_state=42)\n",
    "\n",
    "#hyperparameters to tune\n",
    "param_grid = {\n",
    "    'n_estimators': [50, 100, 200],\n",
    "    'learning_rate': [0.01, 0.1, 0.2],\n",
    "    'max_depth': [3, 4, 5]\n",
    "}\n",
    "\n",
    "# Perform GridSearchCV\n",
    "grid_search = GridSearchCV(estimator=gb_reg, param_grid=param_grid, scoring='neg_mean_squared_error', cv=5)\n",
    "grid_search.fit(X_train, y_train)\n",
    "\n",
    "# Get the best model from the grid search\n",
    "best_gb_reg = grid_search.best_estimator_\n",
    "\n",
    "# Make predictions on the test set\n",
    "predictions = best_gb_reg.predict(X_test)\n",
    "\n",
    "# Evaluate the model\n",
    "gbCV_mse = mean_squared_error(y_test, predictions)\n",
    "gbCV_r2 = round(r2_score(y_test, predictions),4)\n",
    "\n",
    "print(f\"Best Gradient Boosting Regressor:\\n{best_gb_reg}\")\n",
    "print(f\"\\nMean Squared Error (MSE): {gbCV_mse}\")\n",
    "print(f\"R-squared: {gbCV_r2}\")"
   ]
  },
  {
   "cell_type": "markdown",
   "id": "bfcd44fd",
   "metadata": {},
   "source": [
    "# XGBoost regressor"
   ]
  },
  {
   "cell_type": "code",
   "execution_count": 105,
   "id": "3434724a",
   "metadata": {},
   "outputs": [
    {
     "name": "stdout",
     "output_type": "stream",
     "text": [
      "Mean Squared Error: 1741270365.5204375\n",
      "R-squared: 0.155\n"
     ]
    }
   ],
   "source": [
    "# Create an XGBoost regressor\n",
    "regressor = xgb.XGBRegressor(objective='reg:squarederror', random_state=2)\n",
    "\n",
    "# Train the model\n",
    "regressor.fit(X_train, y_train)\n",
    "\n",
    "# Make predictions on the test set\n",
    "y_pred_xgb = regressor.predict(X_test)\n",
    "\n",
    "# Evaluate the model\n",
    "xgb_mse = mean_squared_error(y_test, y_pred_xgb)\n",
    "print(f'Mean Squared Error: {mse}')\n",
    "\n",
    "xgb_r2 = round(r2_score(y_test, y_pred_xgb),4)\n",
    "print(\"R-squared:\", r2)\n",
    "\n",
    "results_list.append({'Model': 'XGBoost Regressor', 'MSE': xgb_mse, 'R-squared': xgb_r2})"
   ]
  },
  {
   "cell_type": "markdown",
   "id": "8a51a212",
   "metadata": {},
   "source": [
    "# ElasticNet regression"
   ]
  },
  {
   "cell_type": "code",
   "execution_count": 106,
   "id": "7b13bbf6",
   "metadata": {},
   "outputs": [
    {
     "name": "stdout",
     "output_type": "stream",
     "text": [
      "Mean Squared Error: 1741270365.5204375\n",
      "R-squared: 0.155\n"
     ]
    }
   ],
   "source": [
    "# Create an ElasticNet regression model\n",
    "elastic_net_model = ElasticNet(alpha=0.8, l1_ratio=0.5)  \n",
    "# Train the model\n",
    "elastic_net_model.fit(X_train_scaled, y_train)\n",
    "\n",
    "# Make predictions on the test set\n",
    "y_pred = elastic_net_model.predict(X_test_scaled)\n",
    "\n",
    "# Evaluate the model\n",
    "en_mse = mean_squared_error(y_test, y_pred)\n",
    "en_r2 = round(r2_score(y_test, y_pred),4)\n",
    "\n",
    "print(f'Mean Squared Error: {mse}')\n",
    "print(f'R-squared: {r2}')\n",
    "\n",
    "results_list.append({'Model': 'ElasticNet Regressor', 'MSE': en_mse, 'R-squared': en_r2})"
   ]
  },
  {
   "cell_type": "markdown",
   "id": "d6a2954a",
   "metadata": {},
   "source": [
    "# SVM"
   ]
  },
  {
   "cell_type": "code",
   "execution_count": 23,
   "id": "7c975cd4",
   "metadata": {},
   "outputs": [],
   "source": [
    "# Standardize features using StandardScaler\n",
    "scaler = StandardScaler()\n",
    "X_train_scaled = scaler.fit_transform(X_train)\n",
    "X_test_scaled = scaler.transform(X_test)"
   ]
  },
  {
   "cell_type": "code",
   "execution_count": 107,
   "id": "976a8def",
   "metadata": {},
   "outputs": [
    {
     "name": "stdout",
     "output_type": "stream",
     "text": [
      "Mean Squared Error: 1741270365.5204375\n",
      "R-squared: 0.155\n"
     ]
    }
   ],
   "source": [
    "# Create an SVM regression model\n",
    "svm_model = SVR(kernel='linear', C=1.0)  # You can experiment with different kernels (linear, rbf, poly, etc.) and hyperparameters\n",
    "\n",
    "# Train the model\n",
    "svm_model.fit(X_train_scaled, y_train)\n",
    "\n",
    "# Make predictions on the test set\n",
    "y_pred = svm_model.predict(X_test_scaled)\n",
    "\n",
    "# Evaluate the model\n",
    "svm_mse = mean_squared_error(y_test, y_pred)\n",
    "svm_r2 = round(r2_score(y_test, y_pred),4)\n",
    "\n",
    "print(f'Mean Squared Error: {mse}')\n",
    "print(f'R-squared: {r2}')\n",
    "\n",
    "results_list.append({'Model': 'SVM', 'MSE': svm_mse, 'R-squared': svm_r2})"
   ]
  },
  {
   "cell_type": "markdown",
   "id": "c442aaba",
   "metadata": {},
   "source": [
    "# Consolidation of results"
   ]
  },
  {
   "cell_type": "code",
   "execution_count": 111,
   "id": "a0673197",
   "metadata": {},
   "outputs": [
    {
     "name": "stdout",
     "output_type": "stream",
     "text": [
      "                        Model           MSE  R-squared\n",
      "0  Linear Regression baseline  1.022375e+09     0.8667\n",
      "1            Ridge Regression  1.023143e+09     0.8666\n",
      "2            Lasso Regression  1.022467e+09     0.8667\n",
      "3          LassoCV Regression  1.741270e+09     0.7730\n",
      "4           XGBoost Regressor  7.822565e+08     0.8980\n",
      "5        ElasticNet Regressor  1.108433e+09     0.8555\n",
      "6                         SVM  6.481271e+09     0.1550\n",
      "7  GradientBoosting Regressor  6.481271e+09     0.8915\n"
     ]
    }
   ],
   "source": [
    "results = pd.DataFrame(results_list)\n",
    "print(results)"
   ]
  },
  {
   "cell_type": "code",
   "execution_count": 112,
   "id": "2c39b5ac",
   "metadata": {},
   "outputs": [
    {
     "data": {
      "text/plain": [
       "([0, 1, 2, 3, 4, 5, 6, 7],\n",
       " [Text(0, 0, 'Linear Regression baseline'),\n",
       "  Text(1, 0, 'Ridge Regression'),\n",
       "  Text(2, 0, 'Lasso Regression'),\n",
       "  Text(3, 0, 'LassoCV Regression'),\n",
       "  Text(4, 0, 'XGBoost Regressor'),\n",
       "  Text(5, 0, 'ElasticNet Regressor'),\n",
       "  Text(6, 0, 'SVM'),\n",
       "  Text(7, 0, 'GradientBoosting Regressor')])"
      ]
     },
     "execution_count": 112,
     "metadata": {},
     "output_type": "execute_result"
    },
    {
     "data": {
      "image/png": "[encoded data removed]",
      "text/plain": [
       "<Figure size 1000x500 with 2 Axes>"
      ]
     },
     "metadata": {},
     "output_type": "display_data"
    }
   ],
   "source": [
    "# Plotting Mean Squared Error (MSE)\n",
    "plt.figure(figsize=(10, 5))\n",
    "plt.subplot(1, 2, 1)\n",
    "bars_mse = plt.bar(results['Model'], results['MSE'], color='skyblue')\n",
    "plt.title('Mean Squared Error (MSE)')\n",
    "plt.ylabel('MSE')\n",
    "plt.xlabel('Model')\n",
    "plt.xticks(rotation=90, ha='right')\n",
    "\n",
    "# Plotting R-squared\n",
    "plt.subplot(1, 2, 2)\n",
    "bars_r_squared = plt.bar(results['Model'], results['R-squared'], color='salmon')\n",
    "plt.title('R-squared')\n",
    "plt.ylabel('R-squared')\n",
    "plt.xlabel('Model')\n",
    "plt.xticks(rotation=90, ha='right')"
   ]
  },
  {
   "cell_type": "code",
   "execution_count": null,
   "id": "162eccd0",
   "metadata": {},
   "outputs": [],
   "source": []
  }
 ],
 "metadata": {
  "kernelspec": {
   "display_name": "Python 3 (ipykernel)",
   "language": "python",
   "name": "python3"
  },
  "language_info": {
   "codemirror_mode": {
    "name": "ipython",
    "version": 3
   },
   "file_extension": ".py",
   "mimetype": "text/x-python",
   "name": "python",
   "nbconvert_exporter": "python",
   "pygments_lexer": "ipython3",
   "version": "3.11.4"
  }
 },
 "nbformat": 4,
 "nbformat_minor": 5
}
